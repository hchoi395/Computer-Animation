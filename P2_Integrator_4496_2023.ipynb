{
  "cells": [
    {
      "cell_type": "markdown",
      "metadata": {
        "id": "Cn_HGpM3XPa1"
      },
      "source": [
        "# CS 4496/7496 Character Animation (Fall 2023)\n",
        "Copyright (c) Georgia Institute of Technology\n",
        "\n",
        "---\n"
      ]
    },
    {
      "cell_type": "markdown",
      "metadata": {
        "id": "Bl36Lnh6YcbQ"
      },
      "source": [
        "# Project 2: Integrators (due <font color='red'>10/6/2023</font>, 11:59PM)\n",
        "\n",
        "**Tip:** *This notebook contains many long cells, most of which you should not edit (but would still need to run). Use the \"Table of contents\" pane on the left of your Colab window to navigate cells quickly.*\n",
        "\n",
        "![The Leaning Tower of Pisa, Wikipedia](https://upload.wikimedia.org/wikipedia/commons/thumb/6/66/The_Leaning_Tower_of_Pisa_SB.jpeg/340px-The_Leaning_Tower_of_Pisa_SB.jpeg)\n",
        "\n",
        "You are standing at the top of the Leaning Tower of Pisa. Just like Galileo, you are trying to convince people that your numerical integrators are accurate by dropping balls with equal mass from the tower. One ball follows the analytical equation of free-fall motion while the others are simulated by your solvers.\n",
        "\n",
        "In your program, you will implement the analytical solution and four numerical integration methods: Explicit Euler, Midpoint, RK4 and Implicit Euler. Show that two of them yield the same motion as the analytical solution, while the other two do not.\n",
        "\n",
        "In your results, you will show five objects (of different colors representing the different methods) side-by-side, falling from the same height at the same time with zero initial velocity.\n",
        "\n",
        "Skeleton code for visualization has already been provided.\n",
        "\n",
        "PyBullet documentation (if you want to learn more about the physics engine used for these simulations): https://docs.google.com/document/d/10sXEhzFRSnvFcl3XxNGhnD4N2SedqwdAvK3dsihxVUA/edit#\n",
        "\n",
        "Note: the installation of PyBullet will take a few minutes..."
      ]
    },
    {
      "cell_type": "code",
      "execution_count": 1,
      "metadata": {
        "id": "rBnCSSvSu9Gp",
        "colab": {
          "base_uri": "https://localhost:8080/"
        },
        "outputId": "b587a3ca-0a96-4e8b-a6b6-fbadf954ff70"
      },
      "outputs": [
        {
          "output_type": "stream",
          "name": "stdout",
          "text": [
            "Collecting pybullet==3.2.5\n",
            "  Downloading https://pybullet.org/download/pybullet-3.2.5-cp310-cp310-manylinux_2_17_x86_64.manylinux2014_x86_64.whl (103.2 MB)\n",
            "\u001b[2K     \u001b[90m━━━━━━━━━━━━━━━━━━━━━━━━━━━━━━━━━━━━━━━\u001b[0m \u001b[32m103.2/103.2 MB\u001b[0m \u001b[31m9.6 MB/s\u001b[0m eta \u001b[36m0:00:00\u001b[0m\n",
            "\u001b[?25hInstalling collected packages: pybullet\n",
            "Successfully installed pybullet-3.2.5\n",
            "Collecting pybullet==2.6.5\n",
            "  Downloading pybullet-2.6.5.tar.gz (82.8 MB)\n",
            "\u001b[2K     \u001b[90m━━━━━━━━━━━━━━━━━━━━━━━━━━━━━━━━━━━━━━━━\u001b[0m \u001b[32m82.8/82.8 MB\u001b[0m \u001b[31m9.5 MB/s\u001b[0m eta \u001b[36m0:00:00\u001b[0m\n",
            "\u001b[?25h  Preparing metadata (setup.py) ... \u001b[?25l\u001b[?25hdone\n",
            "Requirement already satisfied: numpy in /usr/local/lib/python3.10/dist-packages (from pybullet==2.6.5) (1.23.5)\n",
            "Building wheels for collected packages: pybullet\n",
            "  Building wheel for pybullet (setup.py) ... \u001b[?25l\u001b[?25hdone\n",
            "  Created wheel for pybullet: filename=pybullet-2.6.5-cp310-cp310-linux_x86_64.whl size=101474504 sha256=eb834eb97740ff05b53c69dc0209ba2410327912b69e505870704b5d35896bc5\n",
            "  Stored in directory: /root/.cache/pip/wheels/ee/64/09/b01fdf51b550cca64866a88b97315fe48a437036adc66a9d6d\n",
            "Successfully built pybullet\n",
            "Installing collected packages: pybullet\n",
            "  Attempting uninstall: pybullet\n",
            "    Found existing installation: pybullet 3.2.5\n",
            "    Uninstalling pybullet-3.2.5:\n",
            "      Successfully uninstalled pybullet-3.2.5\n",
            "Successfully installed pybullet-2.6.5\n"
          ]
        }
      ],
      "source": [
        "# Install pybullet and related requirements\n",
        "!pip install https://pybullet.org/download/pybullet-3.2.5-cp310-cp310-manylinux_2_17_x86_64.manylinux2014_x86_64.whl\n",
        "!pip install pybullet==2.6.5"
      ]
    },
    {
      "cell_type": "markdown",
      "metadata": {
        "id": "BczgOCbrXMp8"
      },
      "source": [
        "# 1. Skeleton code (do not edit)"
      ]
    },
    {
      "cell_type": "markdown",
      "metadata": {
        "id": "1zRVBYMOQry8"
      },
      "source": [
        "### 1.1. Import required libraries"
      ]
    },
    {
      "cell_type": "code",
      "execution_count": 2,
      "metadata": {
        "id": "yobnZUPRYAfi"
      },
      "outputs": [],
      "source": [
        "import pybullet as p\n",
        "import pybullet_data as pd\n",
        "import time\n",
        "import io\n",
        "import imageio\n",
        "from IPython.display import HTML\n",
        "from IPython import display as ipythondisplay\n",
        "import numpy as np"
      ]
    },
    {
      "cell_type": "markdown",
      "metadata": {
        "id": "PSTL6hdzQt6M"
      },
      "source": [
        "### 1.2. Create base class for dynamic systems"
      ]
    },
    {
      "cell_type": "code",
      "execution_count": 3,
      "metadata": {
        "id": "FC4VYQVyQ3I0"
      },
      "outputs": [],
      "source": [
        "class DynamicSystem(object):\n",
        "  \"\"\" An abstract dynamic system. All systems we use will inherit from this class.\n",
        "  \"\"\"\n",
        "\n",
        "  # ** Basic state operations **\n",
        "\n",
        "  def __init__(self, initial_state):\n",
        "    self.set_state(initial_state)\n",
        "\n",
        "  def get_dim(self):\n",
        "    '''Get the dimensionality (number of variables) in the system's state.'''\n",
        "    return len(self.state)\n",
        "\n",
        "  def get_system_state(self):\n",
        "    return self.state\n",
        "\n",
        "  def set_state(self, state):\n",
        "    self.state = np.array(state)\n",
        "\n",
        "  # ** Simulation operations **\n",
        "\n",
        "  def on_start_simulation(self):\n",
        "    raise NotImplementedError\n",
        "\n",
        "  def on_step_simulation(self):\n",
        "    raise NotImplementedError\n",
        "\n",
        "  # ** Analytical solution **\n",
        "\n",
        "  def analytical_state_update(self, t):\n",
        "    raise NotImplementedError\n",
        "\n",
        "  # ** Operations for numerical integration **\n",
        "\n",
        "  def get_system_derivative(self):\n",
        "    raise NotImplementedError\n",
        "\n",
        "  def get_gradient_of_system_derivative(self):\n",
        "    raise NotImplementedError"
      ]
    },
    {
      "cell_type": "markdown",
      "metadata": {
        "id": "yXiQL6Retvz2"
      },
      "source": [
        "### 1.3. Create base class for numerical integrators (i.e. solvers)"
      ]
    },
    {
      "cell_type": "code",
      "execution_count": 4,
      "metadata": {
        "id": "0ysCKkjxtzSW"
      },
      "outputs": [],
      "source": [
        "class Solver(object):\n",
        "  \"\"\"An abstract solver (numerical integrator), which all solvers inherit from.\"\"\"\n",
        "  def __init__(self):\n",
        "    \"\"\"Initilializes the solver.\"\"\"\n",
        "    pass\n",
        "\n",
        "  def step(self, h: float, system: DynamicSystem):\n",
        "    \"\"\"Calculate the state after advancement by `h` from its current state, and use `set_state()` to update the system.\n",
        "    Do not return anything.\n",
        "\n",
        "    Since nothing about this abstract solver is known, we raise an error.\n",
        "    \"\"\"\n",
        "    raise NotImplementedError\n"
      ]
    },
    {
      "cell_type": "markdown",
      "metadata": {
        "id": "s61fwx6P0XcW"
      },
      "source": [
        "### 1.4. Simulation utilities"
      ]
    },
    {
      "cell_type": "markdown",
      "metadata": {
        "id": "8CteMs1u1Ve1"
      },
      "source": [
        "#### PyBullet general initialization"
      ]
    },
    {
      "cell_type": "code",
      "execution_count": 5,
      "metadata": {
        "id": "B3cXipsk0bm-"
      },
      "outputs": [],
      "source": [
        "# PyBullet globals\n",
        "flags = p.URDF_INITIALIZE_SAT_FEATURES\n",
        "\n",
        "def init_pybullet():\n",
        "  '''Initialize PyBullet parameters (call before setting up any PyBullet simulation)'''\n",
        "  global flags\n",
        "  p.connect(p.DIRECT)\n",
        "  p.setAdditionalSearchPath(pd.getDataPath())\n",
        "  p.resetSimulation()\n",
        "\n",
        "  p.loadURDF('plane.urdf', [0, 0, 0], flags=flags, useFixedBase=True) # create plane in background"
      ]
    },
    {
      "cell_type": "markdown",
      "metadata": {
        "id": "_pgnTiL0YDnT"
      },
      "source": [
        "#### PyBullet camera setup"
      ]
    },
    {
      "cell_type": "code",
      "execution_count": 6,
      "metadata": {
        "id": "S6ZdGcxzYKRs"
      },
      "outputs": [],
      "source": [
        "# Camera settings (global)\n",
        "pixelWidth, pixelHeight = 640, 360\n",
        "viewMatrix = p.computeViewMatrixFromYawPitchRoll(cameraTargetPosition=[0, 0, 5.0], distance=10.0, yaw=0.0, pitch=0.0, roll=0.0, upAxisIndex=2)\n",
        "projectionMatrix = p.computeProjectionMatrixFOV(fov=60, aspect=pixelWidth / pixelHeight, nearVal=0.01, farVal=100)\n",
        "\n",
        "def render_pybullet():\n",
        "  '''Render image from global camera in pybullet'''\n",
        "  global pixelWidth, pixelHeight, viewMatrix, projectionMatrix\n",
        "  _, _, img, _, _ = p.getCameraImage(pixelWidth, pixelHeight, viewMatrix, projectionMatrix, shadow=1, lightDirection=[1,1,1])\n",
        "  return img[..., :3]   # ignore alpha"
      ]
    },
    {
      "cell_type": "markdown",
      "metadata": {
        "id": "2m-Lp4l5dGBu"
      },
      "source": [
        "# 2. Galileo's experiment: Free-fall system"
      ]
    },
    {
      "cell_type": "markdown",
      "metadata": {
        "id": "zWBuc3itoHDa"
      },
      "source": [
        "### System definition\n",
        "\n",
        "The first task is to write the code for defining the \"system\" of each free-falling object. Particularly, you need to implement the following functions:\n",
        "- `get_system_derivative()`, which returns the derivative of the current state.\n",
        "- `analytical_state_update()`, which sets the correct state at any time `t` as computed analytically, and doesn't return anything.\n",
        "  - Use the closed-form solution for free-fall height and velocity as a function of time.\n",
        "\n",
        "Please note that we have an additional function for extra questions `get_gradient_of_system_derivative()`, which returns the gradient of the derivative at the current state. This will be used for implicit Euler (see the docstring for details). You do **NOT** need to implement this for regular problems.\n",
        "\n",
        "In the cell below (and in all cells where you need to write code), your code goes under the `#Student answer begins` comments.\n",
        "\n",
        "**<font color='orange'> \\*\\*Task 1: Write your code below (20 pts)\\*\\* </font>**\n",
        "\n"
      ]
    },
    {
      "cell_type": "code",
      "execution_count": 7,
      "metadata": {
        "id": "N9kvXO3uimac"
      },
      "outputs": [],
      "source": [
        "class Freefall(DynamicSystem):\n",
        "  \"\"\" A dynamic system of a freefall object, simulated using pybullet.\n",
        "  \"\"\"\n",
        "  def __init__(self, initial_height: float, gravity: float):\n",
        "    \"\"\"Initialize the object that is free-falling (assumed to be of mass 1).\n",
        "\n",
        "    Args:\n",
        "      initial_height: the initial height (velocity starts at zero for freefall)\n",
        "      g: the gravity constant\n",
        "    \"\"\"\n",
        "    super().__init__(initial_state=(initial_height, 0.0))\n",
        "    self.initial_height = initial_height\n",
        "    self.gravity = gravity\n",
        "\n",
        "  # ** Simulation operations **\n",
        "\n",
        "  def on_start_simulation(self, rgbaColor, basePosition):\n",
        "    \"\"\"To be called when a simulation for this system (pybullet) is about to start.\n",
        "    Sets up the pybullet object for this system (a free-falling sphere)\n",
        "    \"\"\"\n",
        "    global flags\n",
        "    objShape = p.createVisualShape(shapeType=p.GEOM_MESH, fileName=\"sphere_smooth.obj\", meshScale=[0.25, 0.25, 0.25], rgbaColor=rgbaColor)\n",
        "    self.obj = p.createMultiBody(baseMass=1, baseVisualShapeIndex=objShape, basePosition=basePosition, flags=flags)\n",
        "\n",
        "  def on_step_simulation(self):\n",
        "    \"\"\"To be called when a simulation for this system (pybullet) is stepping through.\n",
        "    Updates the position and velocity of the object for visualization.\n",
        "    \"\"\"\n",
        "    obj = self.obj\n",
        "    x, y, _ = p.getBasePositionAndOrientation(obj)[0]\n",
        "    z, dz = self.state\n",
        "    p.resetBasePositionAndOrientation(obj, posObj=[x, y, z], ornObj=[0, 0, 0, 1])\n",
        "    p.resetBaseVelocity(obj, linearVelocity=[0, 0, dz])\n",
        "\n",
        "\n",
        "  # ** Analytical solution **\n",
        "\n",
        "  def analytical_state_update(self, t):\n",
        "    \"\"\"Set the state to the analytical solution of the system at time t (float).\n",
        "    Args:\n",
        "      t: The given simulation time\n",
        "    \"\"\"\n",
        "    # Student answer begins\n",
        "    z = self.initial_height - (1/2) * self.gravity * (t ** 2)\n",
        "    dz = (self.gravity * -1) * t\n",
        "    self.set_state((z, dz))\n",
        "    # Student answer ends\n",
        "\n",
        "  # ** Operations for numerical integration **\n",
        "\n",
        "  def get_system_derivative(self):\n",
        "    \"\"\"Returns the derivative of the given system at its current state as a np.array.\n",
        "    Used in all numerical integration methods. It is the function ` f ` in the slides.\n",
        "    For example, if the state is [a,b], then this returns [a*, b*] where a* = da/dt and b* = db/dt.\n",
        "\n",
        "    Returns:\n",
        "      The derivative of the given system as a np.array of shape (2,)\n",
        "    \"\"\"\n",
        "    # Student answer begins\n",
        "    x, v = self.state\n",
        "    dx = v\n",
        "    dv = (self.gravity * -1)\n",
        "    return np.array([dx, dv])\n",
        "    # Student answer ends\n",
        "\n",
        "  def get_gradient_of_system_derivative(self):\n",
        "    \"\"\"Returns the gradient of `get_system_derivative()` (Hessian) of the given system at its current state as a np.array.\n",
        "    Used in first-order implicit Euler. It is the function ` f' ` used in the Taylor series expansion in the slides.\n",
        "    For example, if the state is [a,b] with derivative [a*, b*], then this returns:\n",
        "    gradient([a*, b*]) = [ [ d(a*)/da, d(a*)/db ],\n",
        "                           [ d(b*)/da, d(b*)/db ] ]\n",
        "\n",
        "    Returns:\n",
        "      The gradient of the derivative of the given system as a np.array of shape (2, 2)\n",
        "    \"\"\"\n",
        "    # Student answer begins - for the extra question (implicit Euler)\n",
        "    return np.array([\n",
        "        [0.0, 1.0],\n",
        "        [0.0, 0.0]\n",
        "    ])\n",
        "    # Student answer ends\n"
      ]
    },
    {
      "cell_type": "markdown",
      "metadata": {
        "id": "-1vxORN4C_ll"
      },
      "source": [
        "Let's quickly verify your implementation. (do not edit)"
      ]
    },
    {
      "cell_type": "code",
      "execution_count": 22,
      "metadata": {
        "id": "i1o1-0l0DDRn",
        "colab": {
          "base_uri": "https://localhost:8080/"
        },
        "outputId": "86fd785a-7449-49ae-cb43-3dc393615be3"
      },
      "outputs": [
        {
          "output_type": "stream",
          "name": "stdout",
          "text": [
            "You pass the tests!\n"
          ]
        }
      ],
      "source": [
        "system = Freefall(initial_height=10.0, gravity=9.8) # 10m, zero velocity\n",
        "assert np.allclose(system.get_system_derivative(), np.array([0.0, -9.8]))\n",
        "\n",
        "system.set_state((5.0, -1.0)) # 5.0m, -1.0m/s\n",
        "assert np.allclose(system.get_system_derivative(), np.array([-1.0, -9.8]))\n",
        "\n",
        "system.analytical_state_update(0.0)\n",
        "assert np.allclose(system.get_system_state(), np.array([10.0, 0.0]))\n",
        "system.analytical_state_update(0.5)\n",
        "assert np.allclose(system.get_system_state(), np.array([8.775, -4.9]))\n",
        "system.analytical_state_update(1.0)\n",
        "assert np.allclose(system.get_system_state(), np.array([5.1, -9.8]))\n",
        "\n",
        "print(\"You pass the tests!\")"
      ]
    },
    {
      "cell_type": "markdown",
      "metadata": {
        "id": "sUn_hilGoNVi"
      },
      "source": [
        "### Integrator definitions\n",
        "\n",
        "Now it is time for you to implement the integrators.\n",
        "\n",
        "The integrators have to work for dynamic systems *in general* - not just for this kind of system! In other words, don't assume that the system you get as input will always be a free-fall system. Later in this notebook, another system will be introduced and your integrators will be tested against that one too.\n",
        "\n",
        "For implementing all integrators, follow the same pattern:\n",
        "1. Get any state/derivative/gradient info you need from the provided `system`\n",
        "1. Compute the state after advancement by time `h` from the current state\n",
        "1. Update the system's state using `set_state()`, and don't return anything.\n",
        "\n",
        "Note that, to compute the state after advancement by `h`, you might need to use some intermediate states and store info from them."
      ]
    },
    {
      "cell_type": "markdown",
      "metadata": {
        "id": "rlvhA2Wyr5KH"
      },
      "source": [
        "#### Explicit Euler method\n",
        "\n",
        "To implement this, you shouldn't need to use any intermediate states.\n",
        "\n",
        "**<font color='orange'> \\*\\*Task 2: Write your code below (10 pts)\\*\\* </font>**"
      ]
    },
    {
      "cell_type": "code",
      "execution_count": 23,
      "metadata": {
        "id": "X7B7NuY5r9ic"
      },
      "outputs": [],
      "source": [
        "class ExplicitEulerSolver(Solver):\n",
        "  \"\"\"A general Explicit Euler method solver.\"\"\"\n",
        "  def step(self, h: float, system: DynamicSystem):\n",
        "    \"\"\" Read the current system state, calculate the state after advancement by `h`, and use `set_state()` to update the system. Do not return anything.\n",
        "\n",
        "    Args:\n",
        "      system: the instance of the given dynamic system\n",
        "      h: an amount of the time step we want to integrate\n",
        "    \"\"\"\n",
        "    # Student answer begins\n",
        "    # useful functions: system.get_system_state, system.get_system_derivative, and system.set_state\n",
        "\n",
        "    x0 = system.get_system_state()\n",
        "    x_derivative = system.get_system_derivative()\n",
        "    next_state = x0 + (h * x_derivative)\n",
        "    system.set_state(next_state)\n",
        "\n",
        "    # Student answer ends"
      ]
    },
    {
      "cell_type": "markdown",
      "metadata": {
        "id": "JXbjgpMPxzGc"
      },
      "source": [
        "#### Midpoint method\n",
        "\n",
        "*Hint:* compute $x_{mid}$, use that to set an intermediate state for the system, and then compute $f_{mid}$ from there. Don't forget to store the original state $x_0$.\n",
        "\n",
        "**<font color='orange'> \\*\\*Task 3: Write your code below (10 pts)\\*\\* </font>**"
      ]
    },
    {
      "cell_type": "code",
      "execution_count": 27,
      "metadata": {
        "id": "P-hEwtmzyFpa"
      },
      "outputs": [],
      "source": [
        "class MidpointSolver(Solver):\n",
        "  \"\"\"A general Midpoint method solver.\"\"\"\n",
        "  def step(self, h: float, system: DynamicSystem):\n",
        "    \"\"\" Read the current system state, calculate the state after advancement by `h`, and use `set_state()` to update the system. Do not return anything.\n",
        "\n",
        "    Args:\n",
        "      system: the instance of the given dynamic system\n",
        "      h: an amount of the time step we want to integrate\n",
        "    \"\"\"\n",
        "    # Student answer begins\n",
        "    # useful functions: system.get_system_state, system.get_system_derivative, and system.set_state\n",
        "\n",
        "    x0 = system.get_system_state()\n",
        "    x_derivative = system.get_system_derivative()\n",
        "    euler_step = h * x_derivative\n",
        "    f_mid = x0 + (euler_step / 2)\n",
        "    system.set_state(f_mid)\n",
        "    x_derivative = system.get_system_derivative()\n",
        "    next_state = x0 + (h * x_derivative)\n",
        "    system.set_state(next_state)\n",
        "\n",
        "    # Student answer ends"
      ]
    },
    {
      "cell_type": "markdown",
      "metadata": {
        "id": "k1wJ8UIgqhj9"
      },
      "source": [
        "#### Runge-Kutta method (RK4)\n",
        "\n",
        "*Hint:* follow the RK4 equations and use multiple intermediate states. Observe that $k_1$ is taken from the derivative of state $x_0$, $k_2$ from $x_1$ and so on. You should end up using 4 `get_system_derivative()` calls.\n",
        "\n",
        "**<font color='orange'> \\*\\*Task 4: Write your code below (10 pts)\\*\\* </font>**"
      ]
    },
    {
      "cell_type": "code",
      "execution_count": 25,
      "metadata": {
        "id": "S_7D-yw5qhj-"
      },
      "outputs": [],
      "source": [
        "class RK4Solver(Solver):\n",
        "  \"\"\"A general RK4 solver.\"\"\"\n",
        "  def step(self, h: float, system: DynamicSystem):\n",
        "    \"\"\" Read the current system state, calculate the state after advancement by `h`, and use `set_state()` to update the system. Do not return anything.\n",
        "\n",
        "    Args:\n",
        "      system: the instance of the given dynamic system\n",
        "      h: an amount of the time step we want to integrate\n",
        "    \"\"\"\n",
        "    # Student answer begins\n",
        "    # useful functions: system.get_system_state, system.get_system_derivative, and system.set_state\n",
        "\n",
        "    x0 = system.get_system_state()\n",
        "    k1 = h * system.get_system_derivative()\n",
        "    system.set_state(x0 + k1 / 2)\n",
        "    k2 = h * system.get_system_derivative()\n",
        "    system.set_state(x0 + k2 / 2)\n",
        "    k3 = h * system.get_system_derivative()\n",
        "    system.set_state(x0 + k3)\n",
        "    k4 = h * system.get_system_derivative()\n",
        "    next_state = x0 + (1/6) * k1 + (1/3) * k2 + (1/3) * k3 + (1/6) * k4\n",
        "    system.set_state(next_state)\n",
        "\n",
        "    # Student answer ends"
      ]
    },
    {
      "cell_type": "markdown",
      "metadata": {
        "id": "0jJSGW0v4ANM"
      },
      "source": [
        "#### Testing all integrators for free-fall (do not edit)"
      ]
    },
    {
      "cell_type": "code",
      "execution_count": 28,
      "metadata": {
        "id": "slQGZeXt4I-5",
        "colab": {
          "base_uri": "https://localhost:8080/"
        },
        "outputId": "fe67240f-c8b0-4067-f6f8-2fd19996bd3d"
      },
      "outputs": [
        {
          "output_type": "stream",
          "name": "stdout",
          "text": [
            "You passed all the tests!\n"
          ]
        }
      ],
      "source": [
        "test_systems = [Freefall(100.0, 10.0) for _ in range(3)]\n",
        "test_solvers = [ExplicitEulerSolver(), MidpointSolver(), RK4Solver()]\n",
        "h = 1.\n",
        "\n",
        "for _ in range(3):\n",
        "  for system, solver in zip(test_systems, test_solvers):\n",
        "    solver.step(h,system)\n",
        "\n",
        "assert np.allclose(\n",
        "  np.stack([system.get_system_state() for system in test_systems], axis=0),\n",
        "  [\n",
        "    [ 70., -30.],\n",
        "    [ 55., -30.],\n",
        "    [ 55., -30.],\n",
        "  ]\n",
        ")\n",
        "\n",
        "for _ in range(7):\n",
        "  for system, solver in zip(test_systems, test_solvers):\n",
        "    solver.step(h,system)\n",
        "\n",
        "assert np.allclose(\n",
        "  np.stack([system.get_system_state() for system in test_systems], axis=0),\n",
        "  [\n",
        "    [-350., -100.],\n",
        "    [-400., -100.],\n",
        "    [-400., -100.],\n",
        "  ]\n",
        ")\n",
        "\n",
        "print('You passed all the tests!')"
      ]
    },
    {
      "cell_type": "markdown",
      "metadata": {
        "id": "57r_AoVhnK7S"
      },
      "source": [
        "### Simulation & Comparison of Methods\n",
        "\n",
        "Now, we'll be simulating 5 free-fall systems which are identical except for the method used to update state. We'll visualize the trajectories we get and compare the methods."
      ]
    },
    {
      "cell_type": "markdown",
      "metadata": {
        "id": "DjODj_35Z4yj"
      },
      "source": [
        "#### Load PyBullet objects and initialize required parameters (do not edit)"
      ]
    },
    {
      "cell_type": "code",
      "execution_count": 29,
      "metadata": {
        "id": "PsBvpiFCw8ub"
      },
      "outputs": [],
      "source": [
        "init_pybullet()\n",
        "\n",
        "initial_height = 10.0\n",
        "g = 9.8  # Acceleration due to gravity\n",
        "h = 1. / 20.  # Time step\n",
        "\n",
        "# Order of methods (and corresponding systems)\n",
        "method_labels = {\n",
        "  0: 'Analytical solution',\n",
        "  1: 'Explicit Euler method',\n",
        "  2: 'Midpoint method',\n",
        "  3: 'RK4 method',\n",
        "}\n",
        "\n",
        "# Construct all the systems\n",
        "systems = [Freefall(initial_height, g) for _ in range(len(method_labels))]\n",
        "\n",
        "# Load objects\n",
        "\n",
        "# Red Sphere - Analytical\n",
        "systems[0].on_start_simulation(rgbaColor=[1, 0, 0, 1], basePosition=[ -2.0, 0.0, initial_height])\n",
        "# Green sphere - Explicit Euler\n",
        "systems[1].on_start_simulation(rgbaColor=[0, 1, 0, 1], basePosition=[ -1.0, 0.0, initial_height])\n",
        "# Blue sphere - Midpoint\n",
        "systems[2].on_start_simulation(rgbaColor=[0, 0, 1, 1], basePosition=[0.0, 0.0, initial_height])\n",
        "# Purple sphere - RK4\n",
        "systems[3].on_start_simulation(rgbaColor=[0.5, 0, 0.5, 1], basePosition=[1.0, 0.0, initial_height])"
      ]
    },
    {
      "cell_type": "markdown",
      "metadata": {
        "id": "7XyyOkwEqQ2E"
      },
      "source": [
        "#### Complete the system update steps in the `while` loop below for all the systems in the `systems` array.\n",
        "\n",
        "They are in the order defined in the cell above (refer to the `method_labels` variable).\n",
        "\n",
        "Note that one system needs to update itself analytically using `analytical_state_update()` while the others need to be updated by `Solver` objects.\n",
        "\n",
        "**<font color='orange'> \\*\\*Task 5: Write your code below (20 pts)\\*\\* </font>**"
      ]
    },
    {
      "cell_type": "code",
      "execution_count": 30,
      "metadata": {
        "id": "yDywtLhydGVI",
        "colab": {
          "base_uri": "https://localhost:8080/"
        },
        "outputId": "99401f66-529c-4035-d3e8-435266b43c42"
      },
      "outputs": [
        {
          "output_type": "stream",
          "name": "stdout",
          "text": [
            "At time t = 0.05\n",
            "Height of object using Analytical solution = 9.98775\n",
            "Height of object using Explicit Euler method = 10.0\n",
            "Height of object using Midpoint method = 9.98775\n",
            "Height of object using RK4 method = 9.987749999999998\n",
            "At time t = 0.3\n",
            "Height of object using Analytical solution = 9.559\n",
            "Height of object using Explicit Euler method = 9.6325\n",
            "Height of object using Midpoint method = 9.559\n",
            "Height of object using RK4 method = 9.559000000000001\n",
            "At time t = 0.5499999999999999\n",
            "Height of object using Analytical solution = 8.51775\n",
            "Height of object using Explicit Euler method = 8.652500000000002\n",
            "Height of object using Midpoint method = 8.51775\n",
            "Height of object using RK4 method = 8.517750000000001\n",
            "At time t = 0.8000000000000002\n",
            "Height of object using Analytical solution = 6.863999999999999\n",
            "Height of object using Explicit Euler method = 7.0600000000000005\n",
            "Height of object using Midpoint method = 6.863999999999998\n",
            "Height of object using RK4 method = 6.8640000000000025\n",
            "At time t = 1.0500000000000003\n",
            "Height of object using Analytical solution = 4.597749999999997\n",
            "Height of object using Explicit Euler method = 4.8549999999999995\n",
            "Height of object using Midpoint method = 4.597749999999998\n",
            "Height of object using RK4 method = 4.597750000000002\n",
            "At time t = 1.3000000000000005\n",
            "Height of object using Analytical solution = 1.7189999999999923\n",
            "Height of object using Explicit Euler method = 2.0374999999999988\n",
            "Height of object using Midpoint method = 1.7189999999999972\n",
            "Height of object using RK4 method = 1.7189999999999988\n",
            "Done. t = 1.5000000000000007\n"
          ]
        }
      ],
      "source": [
        "def get_heights(systems):\n",
        "  \"\"\"A helper function that returns the heights of all systems.\"\"\"\n",
        "  return [s.get_system_state()[0] for s in systems]\n",
        "\n",
        "i, t = 0, 0.  # Loop counter, Time\n",
        "heightsToPlot = [[initial_height] for _ in range(len(systems))]\n",
        "times = [t]\n",
        "\n",
        "# Constructs all the solvers\n",
        "explicit_euler_solver = ExplicitEulerSolver()\n",
        "midpoint_solver = MidpointSolver()\n",
        "rk4_solver = RK4Solver()\n",
        "\n",
        "frames = []\n",
        "while max(get_heights(systems)) > 0.0:\n",
        "  t += h\n",
        "\n",
        "  # Update the systems using the methods you just implemented.\n",
        "\n",
        "  # Student answer begins\n",
        "\n",
        "  systems[0].analytical_state_update(t)  # A bit special treatment for analytical update.\n",
        "  # How do you move explicit_euler_solver, midpoint_solver, and rk4_solver forward? Use step functions.\n",
        "  explicit_euler_solver.step(h, systems[1])\n",
        "  midpoint_solver.step(h, systems[2])\n",
        "  rk4_solver.step(h, systems[3])\n",
        "\n",
        "  # Student answer ends\n",
        "\n",
        "  heights = get_heights(systems)\n",
        "\n",
        "  # Print the values for debugging.\n",
        "  if i % 5 == 0:\n",
        "      print(\"At time t = {}\".format(t))\n",
        "      for idx, label in method_labels.items():\n",
        "        print(\"Height of object using {} = {}\".format(label, heights[idx]))\n",
        "\n",
        "  # Update the values for plot and visualization\n",
        "  for j, system_j in enumerate(systems):\n",
        "    system_j.on_step_simulation()\n",
        "    heightsToPlot[j].append(heights[j])\n",
        "\n",
        "  # Render image\n",
        "  frames.append(render_pybullet())\n",
        "\n",
        "  times.append(t)\n",
        "  i += 1\n",
        "\n",
        "print(\"Done. t = {}\".format(t))"
      ]
    },
    {
      "cell_type": "markdown",
      "metadata": {
        "id": "ahtnMEXgXFeZ"
      },
      "source": [
        "#### Let's visualize the results of the experiments. (do not edit)\n",
        "\n",
        "Make sure that you can see the animation of five free-falling objects.\n",
        "You may want to download the gif for repeating animation."
      ]
    },
    {
      "cell_type": "code",
      "execution_count": 31,
      "metadata": {
        "id": "3XE_x2zRiCeN",
        "colab": {
          "base_uri": "https://localhost:8080/",
          "height": 377
        },
        "outputId": "f89f46ac-61d5-4b4b-b61f-8482ff4a64dc"
      },
      "outputs": [
        {
          "output_type": "execute_result",
          "data": {
            "image/gif": "[encoded data removed]",
            "text/plain": [
              "<IPython.core.display.Image object>"
            ]
          },
          "metadata": {},
          "execution_count": 31
        }
      ],
      "source": [
        "freefall_gif_path = './test_freefall.gif'\n",
        "\n",
        "imageio.mimsave(freefall_gif_path, np.stack(frames, axis=0), 'GIF', duration=1.0)\n",
        "ipythondisplay.Image(filename=freefall_gif_path)"
      ]
    },
    {
      "cell_type": "markdown",
      "metadata": {
        "id": "AoK9a222ZsQG"
      },
      "source": [
        "#### Let us also look at the plot of heights vs time. (do not edit)"
      ]
    },
    {
      "cell_type": "code",
      "execution_count": 32,
      "metadata": {
        "id": "tAsCw2uA3k8Q",
        "colab": {
          "base_uri": "https://localhost:8080/",
          "height": 696
        },
        "outputId": "2b49f411-39e4-463e-be69-0c9ea668ea3e"
      },
      "outputs": [
        {
          "output_type": "display_data",
          "data": {
            "text/plain": [
              "<Figure size 800x800 with 1 Axes>"
            ],
            "image/png": "[encoded data removed]"
          },
          "metadata": {}
        }
      ],
      "source": [
        "import matplotlib.pyplot as plt\n",
        "%matplotlib inline\n",
        "\n",
        "plt.figure(figsize=(8,8))\n",
        "plt.plot(times, heightsToPlot[0], 'r.', lw=4, label='Analytical')\n",
        "plt.plot(times, heightsToPlot[1], 'g-', lw=1, label='Explicit Euler')\n",
        "plt.plot(times, heightsToPlot[2], 'b--', lw=2, label='Midpoint')\n",
        "plt.plot(times, heightsToPlot[3], color='purple', ls='-', lw=1, label='RK4')\n",
        "plt.xlabel('Time')\n",
        "plt.ylabel('Heights')\n",
        "plt.legend()\n",
        "plt.show()"
      ]
    },
    {
      "cell_type": "markdown",
      "metadata": {
        "id": "UblJy1RWgmhT"
      },
      "source": [
        "Can you see all the height trajectories over time?\n",
        "\n",
        "Discuss the results, particularly in terms of the accuracy of each method.\n",
        "\n",
        "Will the results be different if we take a smaller/larger time step?\n",
        "\n",
        "**<font color='orange'> \\*\\*Task 6: Write your answer below (10 pts)\\*\\* </font>**"
      ]
    },
    {
      "cell_type": "markdown",
      "metadata": {
        "id": "wWQ-mWahhPRx"
      },
      "source": [
        "I can see all the height trajectories over time. In regards to the results, the explicit euler method does not seem to accurate like the other 3 systems as the height is slightly higher than the rest. The results will be different if we take a smaller time step since explicit euler is a first order method and can be more accurate with a smaller time step while having a larger time step could make the system unstable.\n",
        "\n"
      ]
    },
    {
      "cell_type": "markdown",
      "metadata": {
        "id": "Mji6OZFg7Jw4"
      },
      "source": [
        "# 3. Bead-on-wire system"
      ]
    },
    {
      "cell_type": "markdown",
      "metadata": {
        "id": "jFqGZnJY7dXw"
      },
      "source": [
        "As promised, you will now test your integrators on a new system - the 2D bead-on-wire system from class, generalized to follow these differential equations:\n",
        "$$\n",
        "\\frac{dx}{dt} = -k_x x; \\frac{dy}{dt} = -k_y y\n",
        "$$\n",
        "with general initial conditions.\n",
        "\n",
        "The system definition and visualization code has been implemented for you.\n",
        "\n",
        "You just need to verify that the integrators work without any changes, and write your observations from the simulation."
      ]
    },
    {
      "cell_type": "markdown",
      "metadata": {
        "id": "C4MJQ6ufW6ah"
      },
      "source": [
        "### System definition (do not edit)"
      ]
    },
    {
      "cell_type": "code",
      "execution_count": 33,
      "metadata": {
        "id": "UcdGKxqg8erw"
      },
      "outputs": [],
      "source": [
        "class BeadOnWire(DynamicSystem):\n",
        "  \"\"\" A dynamic system of a bead on a wire moving in 2D, simulated using matplotlib.\n",
        "  \"\"\"\n",
        "  def __init__(self, initial_state, kx, ky):\n",
        "    \"\"\"state is of form (x,y)\"\"\"\n",
        "    super().__init__(initial_state)\n",
        "    self.initial_state = initial_state\n",
        "    self.k = np.array([kx, ky])\n",
        "\n",
        "  # ** Simulation operations **\n",
        "\n",
        "  def on_start_simulation(self, line):\n",
        "    self.history = [self.initial_state]\n",
        "    self.line = line\n",
        "    self.line.set_data([], [])\n",
        "\n",
        "  def on_step_simulation(self):\n",
        "    self.history.append(self.state)\n",
        "    x_values, y_values = np.array(self.history).T\n",
        "    self.line.set_data(x_values, y_values)\n",
        "\n",
        "  # ** Analytical solution **\n",
        "\n",
        "  def analytical_state_update(self, t):\n",
        "    state = self.initial_state * np.exp(-self.k * t)\n",
        "    self.set_state(state)\n",
        "\n",
        "  # ** Operations for numerical integration **\n",
        "\n",
        "  def get_system_derivative(self):\n",
        "    return -self.k * self.state\n",
        "\n",
        "  def get_gradient_of_system_derivative(self):\n",
        "    return np.diag(-self.k)"
      ]
    },
    {
      "cell_type": "markdown",
      "metadata": {
        "id": "y0UzTrL6r7UO"
      },
      "source": [
        "### Testing all integrators for bead-on-wire (do not edit)"
      ]
    },
    {
      "cell_type": "code",
      "execution_count": 34,
      "metadata": {
        "id": "MPDTbt6Ar7UP",
        "colab": {
          "base_uri": "https://localhost:8080/"
        },
        "outputId": "a3daee7d-c494-4ae4-c186-33ff129cf5ef"
      },
      "outputs": [
        {
          "output_type": "stream",
          "name": "stdout",
          "text": [
            "You passed all the tests!\n"
          ]
        }
      ],
      "source": [
        "test_systems = [BeadOnWire((1.0, 1.0), 1.0, 5.0) for _ in range(3)]\n",
        "test_solvers = [ExplicitEulerSolver(), MidpointSolver(), RK4Solver()]\n",
        "h = 1. / 4.\n",
        "\n",
        "for _ in range(2):\n",
        "  for system, solver in zip(test_systems, test_solvers):\n",
        "    solver.step(h,system)\n",
        "\n",
        "assert np.allclose(\n",
        "  np.stack([system.get_system_state() for system in test_systems], axis=0),\n",
        "  [\n",
        "    [0.5625, 0.0625],\n",
        "    [0.61035156, 0.28222656],\n",
        "    [0.60654283, 0.09452822],\n",
        "  ]\n",
        ")\n",
        "\n",
        "for _ in range(6):\n",
        "  for system, solver in zip(test_systems, test_solvers):\n",
        "    solver.step(h,system)\n",
        "\n",
        "assert np.allclose(\n",
        "  np.stack([system.get_system_state() for system in test_systems], axis=0),\n",
        "  [\n",
        "    [1.00112915e-01, 1.52587891e-05],\n",
        "    [0.13877788, 0.00634441],\n",
        "    [1.35346142e-01, 7.98446841e-05],\n",
        "  ]\n",
        ")\n",
        "\n",
        "print('You passed all the tests!')"
      ]
    },
    {
      "cell_type": "markdown",
      "metadata": {
        "id": "XqWAoxvKW9rA"
      },
      "source": [
        "### Simulation & visualization with matplotlib"
      ]
    },
    {
      "cell_type": "code",
      "execution_count": 38,
      "metadata": {
        "id": "saH32uShXGRI",
        "colab": {
          "base_uri": "https://localhost:8080/",
          "height": 914
        },
        "outputId": "dd5e053c-008e-4fcc-b52f-7f050f6e0fb6"
      },
      "outputs": [
        {
          "output_type": "execute_result",
          "data": {
            "text/plain": [
              "<IPython.core.display.HTML object>"
            ],
            "text/html": [
              "<video width=\"640\" height=\"480\" controls autoplay loop>\n",
              "  <source type=\"video/mp4\" src=\"data:video/mp4;base64,AAAAIGZ0eXBNNFYgAAACAE00ViBpc29taXNvMmF2YzEAAAAIZnJlZQAAPX5tZGF0AAACrgYF//+q\n",
              "3EXpvebZSLeWLNgg2SPu73gyNjQgLSBjb3JlIDE2MyByMzA2MCA1ZGI2YWE2IC0gSC4yNjQvTVBF\n",
              "Ry00IEFWQyBjb2RlYyAtIENvcHlsZWZ0IDIwMDMtMjAyMSAtIGh0dHA6Ly93d3cudmlkZW9sYW4u\n",
              "b3JnL3gyNjQuaHRtbCAtIG9wdGlvbnM6IGNhYmFjPTEgcmVmPTMgZGVibG9jaz0xOjA6MCBhbmFs\n",
              "eXNlPTB4MzoweDExMyBtZT1oZXggc3VibWU9NyBwc3k9MSBwc3lfcmQ9MS4wMDowLjAwIG1peGVk\n",
              "X3JlZj0xIG1lX3JhbmdlPTE2IGNocm9tYV9tZT0xIHRyZWxsaXM9MSA4eDhkY3Q9MSBjcW09MCBk\n",
              "ZWFkem9uZT0yMSwxMSBmYXN0X3Bza2lwPTEgY2hyb21hX3FwX29mZnNldD0tMiB0aHJlYWRzPTMg\n",
              "bG9va2FoZWFkX3RocmVhZHM9MSBzbGljZWRfdGhyZWFkcz0wIG5yPTAgZGVjaW1hdGU9MSBpbnRl\n",
              "cmxhY2VkPTAgYmx1cmF5X2NvbXBhdD0wIGNvbnN0cmFpbmVkX2ludHJhPTAgYmZyYW1lcz0zIGJf\n",
              "cHlyYW1pZD0yIGJfYWRhcHQ9MSBiX2JpYXM9MCBkaXJlY3Q9MSB3ZWlnaHRiPTEgb3Blbl9nb3A9\n",
              "MCB3ZWlnaHRwPTIga2V5aW50PTI1MCBrZXlpbnRfbWluPTIwIHNjZW5lY3V0PTQwIGludHJhX3Jl\n",
              "ZnJlc2g9MCByY19sb29rYWhlYWQ9NDAgcmM9Y3JmIG1idHJlZT0xIGNyZj0yMy4wIHFjb21wPTAu\n",
              "NjAgcXBtaW49MCBxcG1heD02OSBxcHN0ZXA9NCBpcF9yYXRpbz0xLjQwIGFxPTE6MS4wMACAAAAc\n",
              "JWWIhAA3//728P4FNjuY0JcRzeidMx+/Fbi6NDe9zgAAAwAAAwAAAwG5pYX/dnfziCAAAAMAdsAW\n",
              "Xt/BCR/n8JgX9hX1GfPRM2+lAyqicmNt03PQLVoh3RtlexpJxqjo5vdBTclB5GaFAmyNXUZcHlx/\n",
              "/34XCq8X8/168XhB4+cuBmzNySbVtnYTZe9wfqPxJf+pTv2hGtuxF5dZ7TBJyKJCge22db2OA2U4\n",
              "jvrG+SO0CLuRot/RqsGSrZIPXGTJMNkWeSUYTLtY1WAZvNYZtfUVXO4K1rde6wHSXVv8u1QiqmSE\n",
              "vQScjWdZHT2OBs/RowBMWA+AWQdGNmSX3Ej2DeHMJvzWXkgMZ1kFGpzwCj0KvGcIUhHPcZX83z/c\n",
              "mlFRCm9i+n14EyR+kRCe5igxjPAHKaMBGQFtpUeA2u//aM+VVNpO57YdsqrUJcqaIOX0xWNbdx57\n",
              "9w4IuPrUVCSEb7X4U6JR+phiqyduIRdXvnl+M1Ng4XnbpeKur1PvbSnOtc6Hc4Or6KPZLL6t4mYT\n",
              "C3ebj2kKl1jGel2XJDwigdPmjhZEQUc2aEOchMkojcithbERqKxc3Xo+JRPHgkLGG46CAZgbE9CI\n",
              "hi+WSgS5PoZyu+yn8cOosuxtktL+inO9/1oR1uX+eI6+szb1Tf1JBo38zuQFezD2I2ZNl4RdNX4C\n",
              "4/uURg1yGKdky13iqTD6mpPFFjoxa7F1X13mHH6UzsamaFd/1m9tUrSIuon6fu4M6hW0aNRpPlfv\n",
              "lTH0e597fh8MP8vJd/M+TFtbho4AqeczCv8PQEcq1V/SnFAbhAKL+t40Gs08M1j5PTiPGGfVG+bR\n",
              "KBwmRDcwS6jdlDzzZFi0Uyu9LNfi56B3X32qMrPOW8bXNtryuqqgX1CgS2SnLw0Zj195ZYZ1o2/8\n",
              "beXiGrQHCn+mwM5BJAAAAwL7ojKXD7VHrjbmv0BtgOjr2FiuI+Q2EWerCIUQzGyXnAcwXjvphZrI\n",
              "TyCuwsf9XdbhrdQs/KL71n2Ni0r6w/UoLKgC7576RqhvBNTAoFEwSIw4YpJ9PnwY/fm+urxe6aZB\n",
              "9d7AGyObuyBlBE9+OtZqDPk6bhxhwPasVJL9lu5uTSh9wILtRih4QbELV0jeGOZGrkYiH+QXw2RF\n",
              "OOY1XYYDK1/0eq0v3Ipo1LNbA9OUj+GU+Q3rA3xnN+Gxwa4I18nUkNo5Amb6/BNSDEqa38dXwhDy\n",
              "0KFs9a4BzvP9wMjZohJQbagt9+sihTOrYdOHSrYKgTMvOwEk63BMgIUMElLZa9+PNVjZu6JVpAoo\n",
              "J+jbDbbo/1DNvJBOZLzFCgmMdk4xG7u2p9J1xrg+MGPKuXqvBFvGqIUV1un41UI81rxPOv/ij6g7\n",
              "ve/Z8TEcm9rDGVge2yOhwNHu7jCJLUFW012JnJEuigpNYcnm4g9GxH2ShbRGSZf3gYFzItCwRYwI\n",
              "FbXZGJwhVl1AoTWhH0U9c+WJZ26NbeqQCnx2JlNXsxpFsgPohbq5/SnmUdMpHjBJg3yhZNmXQJbr\n",
              "N26PrhHJJ9my3sDbp6yIz1/OVLziYJMhPfNWEsSc7BwdI7LIPUDp5CL0cGkLvPkHrm954s11vvhH\n",
              "x1nhchmeDVKkvGmKr+C5XPZvy+Gf2wv+UPGuVYqXFrzvDE7jVPqXJlTjkQW6TU4yb81BtalWzJo8\n",
              "J4CIRyAn1q7hrNkbzXksZbSt/wE4rR+vLfEVoe+ncrAmLls7YtfxcUFulv4AkeXiXcweFZG4sSH/\n",
              "dt+3mU0lcZew2rPVKRCAAAXMKxT9qP69yG3HWSgWtOI0NVUWi2bRRKJle9SdKT3HIaiXcQ2DpNI0\n",
              "l2Z7FL74PFQbar7aRy7oqwzt1A0rOyEK08ARDDVhGyz9Tb4wHRywHWiNZKoXySyEj4WAXO62vvsi\n",
              "Hunjc1N1Wqor5piaUwnN7WHh5wBmiV4weLIcWZ9vKcaTTVXmpnWVMtdv4jsrj5jJF08Ad2CreFL7\n",
              "2K+cOI3FF5kwMaKip8N0ZxZM2a9LYIlAQYLu0UVG/MGl0j+8nuuWfnK5uRuYE/RqFgYnrT201Ys0\n",
              "6SRs3DxpFvz/B45VyWT3MQp7iHsiwNdUGSRmI2B/AeqBsstNJizcE1pNy+R8VELLFz1qaXC081UM\n",
              "mmiPCIs2tWuOSwSy83JgTpedCnerrZhlan1u/kfYXzSd2RNzRK75QiNmCVA5tJW1jXjePIjvWeiW\n",
              "q9eAdCsK4PnySlayFsjljQL2WWLzzh61XsBfIiaSIfv0sX+c3Nl/dvYYLuMNRFzQuCp4Le5EIGI3\n",
              "rUs1OzQoL2/ajAgnFq2oOf2sljQfEtcNjcGsJkDFNp+VHb+0Nb02WQ5ud9Bolbda0GkSJT3XND0m\n",
              "mONkhZXXQD6ZedSrWy3sfkv3wMApW8Ds7Hz03NW2JLjluGcea1ewr87at+jsVt8x56jij2Ioyr/8\n",
              "ZCCgm6w9HJuv5gHTFxnPYuyiA7O919PaCZaLqsr5vhAEOVyFtP5iAAYBuhZxwTbjB6yxaeVIg8fN\n",
              "Zp0ygUUeXeMDWPlhI9AAHr80MYG/Kv2vrONjj0lvD5IDpfylw0nDAsAdKwp5pJ40KMCeyfxcTM2v\n",
              "PORROn/n7vkWXd7eJWVAOy24+8pLVsNVQYY+4DuUjdFR4GLlhPWxDqJN/mnIe6mZ6+kjr7f3/PaY\n",
              "MIOXfj49sFg6/bJV+jbvk8s6W6kT4yKq7/+KxHs5coJkMYw1dgOTGrCBeFTQJ4JRKmxylU6NAF6T\n",
              "Z76w4PhbwfCzB6mgth20hCejinzU38ceh3q/oitxxqCBqaTsY37lmdtcUnV3NwccuwQyj7zA2gA6\n",
              "MckELqnjrnmDZaplC2nU4gIOlPTHJGn1EaFj9Ubd4Kypk6+2JDpmaecScZvcrz+B0EmjsSUTIV6J\n",
              "1H/jx0Ln2Ufai3RdJXtMRuV8sZgp3rJWkLO7VqsfJTEzl0Txac/G/1rlbhMH2iuNPEKK37pAlLLP\n",
              "r4YyEWULIpIBootyWBoWRP87Si9r4bExBaai269S9LHMeWp+Ax6Zkjyh3rkV0OIsw8QGlxKgH8h/\n",
              "byLtxx3AyEKkERhydWaLu8MJc9s1DdJP5a0UPd8Ye/6hDTtJWC7NxQD9NqGRkvlOqFUIgWX87cqC\n",
              "1W5zMNFBKuvW4LBkLwFKTVQ7d7Q9f0WL8zTPEj9VEtFlilU9C/g4ro6fEiC6wLFieHnM9TxYJpWA\n",
              "cB+wexb0tJgFq1OPQ9gqBtuwZzpa+wS4qeNtb8UsdIp6yuMDPuz9Fxmr44Od7dmLldcrBC+YUO0G\n",
              "Tq4DMgCxr6XacePZiekzRYlVlwauA+tklQmXryq2bNTd/vm4PdkdsRVpAtkyHk1a0DrEo5Vfqq+O\n",
              "H3svxRaCTXOAHLrzGeXL0wKcJPWbAUyBUBeOANl5XEXCUEY4Ep0OjaoJE5TKSGiA62BmSapS4wxq\n",
              "ndHNNjhaOTsDWq/ZuPcBgJZkP83GFUwdDmkn2IG0zvSWx8Z8OgrJzIhn0AgANV7v78cd4v/kx6Fy\n",
              "aY1ll3U97/DIlQxsNMAoieNu/hSYlbHa45sj7nJ+bzkyuqVq1mFGLLjTetI+J64zeZ53RtWlhi+C\n",
              "DfGt6e+BB+J5WcoUZYu0wdHVYwGapjz7wOaHG4YAAJ6lu0i+91h6MOplUp7hC/4aKKz3NM7IATKm\n",
              "k0hdjSgFtvD5dQmt2fnojOpUY3osmdXV9vrptYI5qomOpwP8p2/er56vPlIdR3FTc3kEKadIJ/2h\n",
              "Jn5wX4A6am16faGRJPuXqI80MViTBO/xtvgSGxrrumxKpgqJuKv2y6C9h5c9eGi4XsCvJfPv7kjz\n",
              "j1YUNbC9nCnmuFArF42izMbpu55ViFm5oAE9HhzxFwo5ouXGMjVobzf1IFcfuEHy590B0L5fwO1n\n",
              "2CbnnW9AGBKHEP0yi5rjPCHFd1ksBywMykow6obvKij1GZlVM33WuOvasYHL+HcAwDFYp/uhCx0n\n",
              "KUwvX0ABm/gqaF2RyJcqy0Y5bupeYdzBjRuIk8t1F3jXIO3gZMvNdeWX/5EOCgZwEeeazJDfRajW\n",
              "2Z5B1JuCe6fBs2rb6oCysm3bVDiLWAkX4SAN131PpZR/4cTQRzpw6XP7Bot1s/H89nuHxOdcWhar\n",
              "zFO96pr5Nlx6s36IuKOIFXJvJZGQM19rS2rT80LL+3ks9ZDLoP1rOWVY/zS+ezfrEeBdx9s6J7nt\n",
              "CdQ9LFK1nL8qhB/znAWskcxMRq27BHZvgTFNLLn6sF1TMAmxYM4AACUB+wRwwfvEA7frjcHTOC9f\n",
              "94XbxNeL/13IYfKgiJOZgx09WYhRohE3fxxpuNDOYzZYJsKKuUH/eHb6i64Tx62tVDqEm99otrhq\n",
              "SgUPphR9Tuy9IIPOTfWUx3ZJHcXJwj2/Ujh1c4O0sTN0PB3qtTul9bI39yxvWqgZim3xMTnanUsL\n",
              "mx7FFA6eQxLKbRq/8Ymk8+1tUaWY+rSBg8ozhZBJhYUUFUbMrJ5pF3C+zyX210DwwVSGYdFfELDF\n",
              "SRmby/nVN0dLZp1WFWXzUwt1r9rMDoPoxcDrFxnYA+Zbqfaxo/nijEsPOs1dsYrWN1rFJOo4hefG\n",
              "RDsK1yX67l+NifkMVoAZtCxsvf/hHsRHtcrScnUgzdwP5QL3xOPexclpmn4C9yazw2F266OPowrc\n",
              "rk97lDMuj5WIWL8iJEiVgOHFkU4epB/WHKo2esAJLnxHtxfPPLoeuOajY97LwMDu3cooYG9qEUl5\n",
              "N1+wBMAJZPCmXL3IvpYPPOHUT9XG7eMJRifrt5pqtcoFGkEwbAQSRPcd9eIB5X0TfLd77/wKRnar\n",
              "ev45CfbIS+ICQngWh+8jrWby9bquSScNb4NOStXV+BhegdfkUBLdG6TjB2V9urZRfpW+EYbuDeVJ\n",
              "y2ZjEAXxH4qUjSBzQyULMj0kezqDXLbacdumbURd/t1ijnRngdevlbX4Gfhbdn/2E9owR/K1LFGg\n",
              "nXI+eu8Sa4VW9Yb0niI/dU4/FFDWfI1B3XawPi6yWhO4Sxx+EyJcm9oW/8A8tzFuIKlxYQi9w9/2\n",
              "oTEx/F5txvr+VuYKxGRVk3f+Zl2a+rSqeY9OY/RLSaQPgo5M1Bi5NeRmDLFassrBLQ81woHPJO1P\n",
              "6Z+jlscxI8nPQAihzoa2JjthBBCN+CdN6TfNdoPGlDgJUzithWi9+rlEpj1T+MdF0yXCv3424wcL\n",
              "q2jE5DLahydPRh7nDTXHeQdLnve/vj87e+MuMPKh7Ffd/CVJBzJu2t1zl9hw0TWTfFb6R6xaedM9\n",
              "HGyo6zJvYRJkbnQrR2UArBWfbhKSvDSCr0C0g0XyhTEKJNDuFekZGs4GxDodpXQtT615HVh1goQD\n",
              "OH/xrJ0O8K5tgGQVLoLMl4VdRjjUpADu2jGdZtsJZvk0RbzDuzQdA7/Hul+kGDJvfPjN6HGWfiLd\n",
              "O4kvz3SzjK+lOcAQBh5tDsVx/h3R7/Pgh+/+KBdDlv/X9puJADoPA2uMJS+yZ0XIHzyPt4tsAkTr\n",
              "WWb03YFSdpc2daoVtRnEyvr0JtMmYgGc8R3yTRrbDDewT4Ox4pVSmqLyPMelWpAGbyS1Kbdtdeat\n",
              "o3Ir7QBtsy2qfDAOk1O0/NW9fQplk6yBC81Y0UZZUz2Fy/GcaBKesD8hINhplTuJsevjB+8pfzy2\n",
              "46eOA7xtOreGyYyYLraUkeH2i51Yonn5FwxhkszMJAu5z04DnhfGbvJlw8DGbXWfLZ64v+5rakrA\n",
              "lXswr3bWmbdMmbnTAj9yCsALkpYzLV3xk9FFsLrylN6CmQ7KDJyo5DrQnn2s766RnNZ2xQ+DZf/C\n",
              "E1uH1VnEZpQlkLH4R2MORai7zbCKWMznQIAGKjWGcuK50RvIXDw+PRc0149AKPeXBW/yXg4g2jic\n",
              "DFLEn72SWd4TAz4fGpy5+J+L+zoUjKNgoaNzheLKh4TJl3uaMz5BfSxWXJcCiDjR7Zd2nC3owXxC\n",
              "+ZQjo4tYIuWe0sMbXZ0n1tej4AuVpgaOUzbfaM591QH4ik9r37Fj55w83qQsaJE2fL77HFjdyfzG\n",
              "fUIrrFWfQMk/+5HRhHSrMyhJPlezvcWdRPo0A+VI66yXDkT7X2vfvPXneUPlffLsURXIEvFovmh9\n",
              "BioW1qj/eeqD9H8xl6kWYdq18C6crDbpL0Lz70fn+/ROPxuV3SSDV1OOG78cBcBc3WP+GtwtagQj\n",
              "6e3GJgLGORj3iIuAgnfxkzpb2d5RdJ2h1Tt2QjBJ+Kywcd64uTlRW1HOMJZFiU6Y+j6bVAR+Jg95\n",
              "GzvMvrrTyFY0a9ilk/JjCUBY4+v2xkjZdYhsShyuZJN6Ui+Zo7oWjHeZ6koXgXqyHiDVYX4Eyfck\n",
              "sHYepvaiNGWmQJbLTfFmUV2H9pLVLGJklSIrZr+wZ9p9LmEaAF14L0yx4BIYWmxnLjla1PCcUAUm\n",
              "HMPKLeQtloyglBgj8jHNi7EbOuUFN7LKw4SJWW+Ee+mdHjDsjwkgCYdHvcFzsdKlzir/E/LMHUH8\n",
              "bI4re5yxpFSxDbzWyZuR1Ax0vCaqh/+tMqXvEUZ5EFGtW3oFwPEI5hqmQWcxxJqYgx47VuXm/W/J\n",
              "D2uBHbNLYFek21McuOwl2xZVh38IsZ9BNyW4/W3seMRP7dK7VWIJ/emRBQVZJ1dpG03tyRXN+hwB\n",
              "rV6Es5WpcRB+vjh9vdYRcJgyZ+M0B2uulKxjtqgiqlTwU2kOUhCGimnbbkMC5onfxF7n+kf1d4gk\n",
              "Cyh3LfaVlhyq/ogptcwXqrZPTHBmVuU2nEggSplEd9zk+0nxb/LxM32hQbAv43Ran2N4/0iJL9aZ\n",
              "VglsBUqVumFZvsGdEWjwZD2I84m8eRFKfscJ0j2hzCBjKU+CAhE8cQjJUwjWqC2B/OrFMiMcn+F+\n",
              "HSiwA+C9qTR6+062/dpLEEd+PAf+O7cBPClbQy5deyGtQ+VzFcsJ7dtKDj8mPVjTR63t3aP7S/Ia\n",
              "Fq77IW/HIrq/ujfG4NHz6YNcLH52Lz1Pz5daSieurKhE8bMM+L5S1x+M7PWEA/Z4LMUw6cgumfnW\n",
              "XpN4sDq6RrFUvIAvUFmwcDtsgATobUw/Xephn5M9f7q0XbPoZZkYUc2UW6QhabSFRsnZYLTnk91s\n",
              "iCJf8TDg+2/Il0GYAfZhQgyhxcJtBOtICqVQA3di+i7kHCQM2PeX033PGRfjeG7JRrWyGVxQdqhV\n",
              "da4yoePJ3WOIS7Gcn5DG2YWcAADaIhYJF0WV2Y1pgM2HXfZOFMMQJnrIvw3mGoTbfuRNMjgVeCkV\n",
              "5OYX20XY0ruWrGE8a2L97cqhvIKUC9okLELqGAU8MoZARyhk3B9tuqly6Hp1ylQmucDZYCnA/qQx\n",
              "Mvfyp5vGySjjQtQrsBzKZKb67GNUi44sAMWRWkTnIeTp+dReiflZQsbwZRV5eLacQ2dzzP4DSAgD\n",
              "yvWVxgAAAwAAAwAwhuqENJIyhlno0FfZFy5eJ+07iF/ex3Is7bQ7RtGV/4yaRD2p03o+tFd9G0n0\n",
              "9Zb9UNoVX0/SfkoOvvgPe4TjR/3NLPXJIya0QfkqNqbX8smBFIjvqtu5AHHA1UeCN7Jo2AYhnomy\n",
              "sLHDdFjv3ItXI5Ndw95ZafI/4FnVMMy9uRctKAN8hawBchQtfu4lw1fd0zRC3FQqjmSMHuyADX+t\n",
              "1bGFH1F3NTmUAidocIPvxI5x54ET4VGMaYZBcYEMegTrDb3SZdRYwQLwAuraEpVktpjM9S4fgpj2\n",
              "qH24lEjvr71pA6N6zaC3w1NzkkebctsG4qxwN2XetE2RPxoe+e8Pgqlmu+uVdgB/i8BmNC3Ewzb8\n",
              "pjPC5KyYYl8gvyWTAFN9umZ1NhAifJoe0f8Wi6NWm41vykcz+rTyI6v71807HE7/3OqIwoHnyAzl\n",
              "/Q5KcTYKD0uMmPvM6ptyjp75b/I0iBv7ukIPeN7fyOD5W+NXKGEOCOx1RUigX1PjLDhBOyTcHiAv\n",
              "9+5LerGvbtIf/GnyANcm5n8tIXhavsmxhFOjU4buH2PLMRMnXjF+cjtPMn/JPGldPU/pZccwKVvD\n",
              "XqX7WoAJ2ZxwoD2RZrgCDpbfbMeKHewWqgpms5HYrSz3dtCwvBjx8kRBhO0B8HE68kNMP2Wwg2x4\n",
              "doAZpTXNLGNZj2Jj3Hvb7DddCrDxOpszuVfvN09SXkatMPmoN/QuVUJ4A7zGTsRfCMAmClmuDQdV\n",
              "OVX+pgwScV4+MQxeAfzwNLJZh3/nlYF4CzldKJkU1ci5J7JZQs7tYf/hhBOsoYEPfPXdM02RmDHX\n",
              "Ka99YOeMeNSTDEqO81qoqkiv5PSjQkAHKq17jdewtKnGD5N92LbmZL6RAso3SqU6kvx9Igcpy94V\n",
              "hR0DgmJPCUnqeWh7Rd+PeLZZuxPLzbhi9HycnrrwRUpQ4kCUhkDCzY9TeduHdUiXsrgIyrGm11Qb\n",
              "KFiOiS/3kaZjrVMVWGJQ2p7e1xfYraAXNd1cGS7SnS/w4ox43JgLh93/JGtSKuG/cIl9YP6GNRFl\n",
              "Dbt4JKHnLX6Xsht/oFUKRMRy+A2ZQ/UcYuwbo/VU31DHDnBp0zp1bWG9tk1Pm1sppHXewcVjEwaj\n",
              "e4BEjtWoQjrFQ2HJipN2L3marMHZoLWEBsRjzxpMifFOufZN8BVAl3vWVWN/oOVkhCAJikpOJ065\n",
              "zVhkO/ziVj1BEOpHmfBT2UjJjJ0PgbIkh2Z3awoTfC+B+actT3nHt+npHKwKGXqXEHD4lNb8Ucdh\n",
              "YgC62WzOCvD2zv/0ohF/ufpTjqeiGLsN2U3K72adCFg1Y+u9I/v/742rn0Vjy+3enmuZvrC5TLmj\n",
              "Fh07dHY3bsvDelwwZ9mFeGOeyCkamXC2v5O9Ug1HtC7hSXx5qywvQXiiyvIMymtNJ3Lqt9uBpv0m\n",
              "2Rf9d/FstbaUrdWoe5e14sGDvzRSl2J3yvuWj33ZMbyvSPsrQfDYvjfUJ2OtPl33KYY0eD+kwNqr\n",
              "69BLt4/0i96VaDXUu02RJnUxvq4KASECZfl2kONzq7Ry6moufAzX0hGcS0iDr73Wr5MQLfRfKfg4\n",
              "g7Am+6uONIRGfeutbE7eI0UM8+fDCavhIzEPlntD51sMb16xFGm/8T9v/mRnf2HvkaFmhuLwsHlP\n",
              "ejOulhQBNBeO5JurbIxagarYIFfjVAytdD6QvcSItDBZ+zuO5s+iVs87rpbiazGxy9vS8Zk4fhmr\n",
              "TXa/mly+434Pa7FJRnpegi5xRr3aLEyD4A4MFUoXcokLyxkVaRtWnT5el8JRuh25Ep5KoWBbyaml\n",
              "AFALdlTnHwVMnNoslGIwAONosT0kwzaJG1bWcJGCbt1aHLZaLs6STfr9qhePYnlrGP/aj8ag5DRH\n",
              "cS8lAnTBBPuBXnwk/XEHojAQQheYwtb7YAeCnX3n9I76yCeZj/NM1e8e0MX26wZetTiq1OqY+OCv\n",
              "0/KJ/7qubcKLt1fEzqJ/Ht9FknyHNOZy/aUPM+VcB7i6Qfs6WJNFqU6k4uUaJroX4MWCKTeu05vN\n",
              "rS92KY9ALaCWAu4adoWiC7JMfwS9lLK/yl7c80oFCTy5pH6v08c7EhXkBrQ6Mu9vTHTSZgE5Wuc6\n",
              "lZX2ZSlqMM7dkUz3EGcGLHjWjW0A3z6SYob351wPZyYHdlTE1pLhQLfMdhBqCfKSE2Y7SZwzPNuI\n",
              "AzLfKAAAAwOBfiqd28+yi6ww00QAAB4RAAAJSUGaIWxDv/6plgAN5f0QBAy/R1VGTw+VONlSZTU5\n",
              "oOUr7SyW0i8D9LJgCO/1vsCAKdveBJrS4XYpAuV1kZqjIgoPo8EbWYsIhf8N9c9xzVyLUk2hZl2J\n",
              "aiVMgIFsm6HFPJKEVe+mM0ayMYolMkNk/4jRunhcsfYpThm31ZXpAYQ9HGf0u8KZeY5RZZxpM42v\n",
              "e8ewKCWZc13b14a/tEI1u3zA1BZu0yz2U6Y5+sIyJBSr69xLq3a1BRVFrC5aKZ5wtgVzH9TRyDS5\n",
              "mhVXbRX9Kk57X79Td8EZlGal4zNdMD+K294nr2d5hyHlFJY7ZHcr9/CyCF9A5vImY4sbkjaRAbLZ\n",
              "ODlhb20BAHyXmtVsvVX//cGCySsr8rL1E4K+lkzsYijgnvpDuBcetsCNIIsRQsetlDatbXRapND8\n",
              "ASj3hiTROtjTJVRL5X8vmdd4XoBMEHPJSBO8zs0m3YTLmiYxURd506/N8qMea3Mq21pJWQ2PRpn9\n",
              "ItC81zZe/hG5f1LvpMkWskmf66YFSpiMYfnwRH7/ESm319LnVaEVqzLpazE7I4iDehFJivQAw37v\n",
              "PdlZSTh8mwdT1en2LCW37oK91INYU9vP7Dzm9lOIywLPXeqDv9xs4OgISlHvpW+wSW0kl9C09hbl\n",
              "COziv4tsB/K4OqtP0eMJESdksU8qf+VDxTiTSiK/oqw0O88mze1GYESmQRM1xiFbrnkNnw+W2I4X\n",
              "RKfAukucQN7lSz8uvMTxgrAvcwv90N9bNJzeQYjykvCVLOUuHoUddixIlaJsYxqxDnwfi3ZXONTE\n",
              "PG+W5CHfkeD84cnqfkZadD1C4U5f7QnASx9LLq1HF40AFjZpMkfjsHd7XdX13dTN/8AMs4WM2PF2\n",
              "qjPx+RnA3BVU7Xu0hWzc1KZvEKDkRQLN34NobvHf34XHH9WX6zcTiaQwqKHtmIkidmqwXLYa1SO2\n",
              "m8Wlj9dZfFi3F0IgzzUo/biVtsaEWx/5Unn67ofcZQqlfmsD57bQm2+U09ef9lbcofqjTnC9N23Q\n",
              "zZfoNLAnJ6n8cKsJkoC9++/TRyeGNoL7oc4s32K6CjbaO3XOUSRMo69vd0KuSTE7GkCcs8N6OcM0\n",
              "IxH2wWl/sCrxAWucJXQ+jX/lqa5qvFdaK3d1CMpWJGUsOVEzVHaTQTizJ9wenG4/6ah0VEsUsEcl\n",
              "9kYfV/Sl3JLgofmwXAP1jMQxPGp9Br00+zUEDwtaCwp4YJxrVsM3Xzq+65fZB2lKjFe0AuVJ0a0d\n",
              "C/7F8gZldNXUQdbT5Iko4OQlyXrJ+zkFhJ3TtJJ6Zx072qoG+HdYgGJc7wbbORFHOZMGJIbF++Y3\n",
              "soZrQWhaV5rDHtXSop44nx5DI6AiuHfhlFH+2iNgAdYdrWYxtadIq8o5QQF+CQ/g/ZAv566plkvP\n",
              "T3ncwUFvoRUv2GuIagxCGHVyOfXNaNT5u540h7X3yWSnqgwCm7vJsgmdlkcjohGhFSFkeElY9VaK\n",
              "sHOkmncSs8X6z7HuFziLnHkqq04CytLJcGJARCwclKk+TeFzrsESG43KiXJeD79085sYYSE2Hrv1\n",
              "k1UxALfIqipLWUvHETWAzUqeli9Mk9bzJZPUdlRB/8RwmzsBGILncORRo9Eg/PTeT6GVzRLELLZX\n",
              "NBBS5dszxPWecR6rAscFmeM9k3TmZhqMwWESVYbDIameaCzOitfp/HGfBc4m8NbPJ/h1Aocx9mcR\n",
              "o1DNFZutDs/wNbg9OhzohWWRlqEc5+SLHCUBCtD9G7AFX1EIvnBaHeyfR1ZC0zzXMgnwAMyQwY5y\n",
              "QkFOc5HijN4G9HDa3u6evgCNYQWMwblxuIFs7ClSYrTGzHLm/2Ek1Y6oJohiY8jIdVq8NgMVVomO\n",
              "+zY5QhL1R6PO9qhxYehoQRbRM0ei0qS2odBgXo1qKhgtC2lKj7F5eWDneVQNNlfk2cuwa2aCq3u7\n",
              "klocUHqW2sSaE4DBXSx9NFXTB21T4jVo9TLCNBj+L6SzrS3WVXF2k9f5jRxzcSw1gKu5PjY8Oa3g\n",
              "gJ00HyHjOJNOSbmWT79M/3dO3KkTXfxwSIu8li1hRPq1Af5sNXh3dI8kHOtSuOD1/nGxWZ3QZf2J\n",
              "pKU0n8SFhqVTLCTDE0e+8phrwsANkcIXNBwQlcEKuLT1nPO2fCJybOTnDAOcWCR3iEe2IkBCB9HU\n",
              "j7zim3fUVamLZanGDTgA5BysmjDkV0DnqJvgSGezGd6WYyY6hQoMoPm4LDMFiSYatbOwfD5m3O8X\n",
              "xPJjcVMElwzDra4ygpxj5hCKkAJa7zZmIc50tTrH3Ij7lOgdBu4HC/et5MNjeRrN+fIX9fCrlZlL\n",
              "tUnhdeLyiRxKXHIG9Pmz7Bapq+tB2k21GuHDD+1y9vha3a4lJKn/T5KUI8ecSSi/aQoHuWo7G1BD\n",
              "H/UhGIbti/DL+V75rSt0ghfo+Np+uteYx9cjDhtxY2rzErCmxuqtFwDcoWZrTopuU0qE7Yokt/mI\n",
              "Fq/exYTPtrXSJV/loS+nOSoZFQXbZ7FEdkhh5z8nYbEbLi9NgrI89gobrny4TfY67FZrQs1f1g19\n",
              "/KyKZbT8BdcK1PFxpikWpZO1ycwQNzwmjHa4QIoPNdVUhAf9Su6xXY2tYeOCaf99KKUKhUtBc8J3\n",
              "A1B03QHXvcHSwi+EZKvtZ3TOjixFW+dJOx0hnSV+Wpo6LbvDuXs4OpJ2fB+R936aRgBzAkmTUZYy\n",
              "wItPcm07tigSWBQ2hR38KFUBD8rkfLibEuAJVmcVQ9jydHYupeVxCspZ8pv1m+1QU3o1ohtReKYB\n",
              "+IyVlO5wkNnrO3yQ4LFcBXznvrBecytMe980pW4gpoYMjPPaPqnkK2/ONEI5549In7ZqOrtcjQAm\n",
              "hIKnzDhWrxowPeyukUr2Yx28EgZ44rGSOzyXPtdankAd3Gh+Vefyr5TcGCudaDWDG/yRh4/Lg5YU\n",
              "VSPHXqAAQRA9nubn9SOYszIi+QJNB0HK5uh9ka/gMhM8xtKnShvADkmn7jm5WYKBCiBrrbXFaXcQ\n",
              "aKclKZLqtmpiVoZG97KyqC+D8rMwX9DXodVnMxHuFNKNHNNhnzn1TdelKce4pcZfekg7cqH5+hF2\n",
              "0u7r8V0B1WwcJXaL4DlNVKxre8ViEgp04yPAy6CfxkB2kGd9H/q5AJC5M/cxxXiM81BmwANRFj2R\n",
              "kE8GyuZzb5bakDAAAAS+QZpCPCGTKYQ7//6plgAEwM9L0kqIUDzWpIaR5nI2ZDwaU5bXxbXROmKg\n",
              "HcqFj72G+3lvZXnMmTbUAV6uaM5cqWpKl1NRRd8PmETfwXXywiQOtKAEpgB8+DBzVZwtKdEqPeAR\n",
              "5ucGXVhTx4CTQNzcPUeM542KPPt7EpNONrk6CdNzq5lzdV1LCPaufo4TqLywnY5J8miT30526sGF\n",
              "14rtGmg8j3i3ivrEGSYukBjvK/NIhWdbJmGqw8u7aITx4p8H8S0BxCMSEDDd4qyO/KNvb/j1X4bC\n",
              "tvbP6uWPV1ht3DmxXRLp7oMvX8vBzHeFE0bt2pqCvFGec4CTs+op1WnDpTiIsOFoU920BW/afN6A\n",
              "VX7jGmy5pbI58qGkmfVhZe286ctglUmUlxZhpj/Qohu/0Zrn6hoExjs6GD0oetDMAoe/1M8N116r\n",
              "uR8Ry1qGVaHcdMVtaFOT0b3Ft8Sj5pPQ6pgdYjCAy2llvucX+O98gnYZoru+Xtz8VlBQuq4FghPt\n",
              "N7AHXGUvqMeZf2Uu5JsCKJocu3cSKJ5cyWt/UF7Rtbt5QJd/UMyZlENmXX5jApk4+G8/XuV9iEDI\n",
              "susw/6TwCA3XZsqe9yHKgceaPirNISlIjR7ykCaRBWANjU+sX9t8/DfWvd/0h6TGRRzxsvp6XLzX\n",
              "ugF4Fqwif6sIvPVWsEbQT6qykJt5yfQKIGoFLw35oLJ7ucPTc+IpCBu2CDXVc2+lgRTCCM1vHK16\n",
              "9aGSEedx7XBc8X62QLf1uTy2xJ08pDmYGPBR1BTe9qwLgBfGtk15mSqCitqEAfSYfY+sLk3gLbcf\n",
              "Fx8N7nPy/kMAUc3hCpissbPbQLJvYQBckMofMp1CcCWD6RtQ8YsGfm6LkyNXDgiL8Z+u3qIBdFIA\n",
              "QlCBOlOHAs3SQw+AIRKdlFzG+o02IjO88gifRj9h8LKaqDffOhiiFdpxLkuxQirsl3X1ciNfXTYu\n",
              "wqVlMpzZcJE7Sgvi8MGHcDeXZID4v1phOA9PRHkFsfBGNTZ/5Ac8HAwgsuSfbzrMW8LEbnjajtu6\n",
              "cq/2faEledFXRsIxL71r40xbdWszvCvpkaU1Ps8/a7Khooq6tTGi3UtjN9uFtoKEFSbKfgiSj9EK\n",
              "+nFZHsqA/IDi+54rzpDasBtx6EfXzxVQM+GuZMuKipN3hWmU1rByBk2G9+ryZ7SHqZDIhEwG37sS\n",
              "9H9p9uajoUHKDDAnJvp3X8hT5FKxfZZRaHl6C3n7AA+Yxk1oYAZOU4DDy9geLSm4IJS/HH4u7M8c\n",
              "ehvqw0hnHjDgEq0MpZhtb9QLpvsvUkA9nABYluzUKRpxiBKpr2S0ayI/VFV5pb9IjWvaC9N8LNPJ\n",
              "qj/mZJtBMJkcloWJQ+TQoQ6JCex+N8Xy19m2aQqAsHPSW2nb9NOgovCTGGMU19fYVY9xMEtzRP78\n",
              "vrBkIR97qt7pdnkDIH6O99hvC3pZbb2gqWq/uxCwBGcAJY7LvHg+C/Ty4/5acGsLhQrAOB8UQmhA\n",
              "VwmU7W+cS+DlUurxjK1z2Q7mqgj/8kyzVQGSP5KKnEHKuFhQDvX2l0IZJbr5zY2PASd3uELxP/5f\n",
              "vI02DNntnVbaAN2zBqwhUWc/4HsiK8KVW0pIEWTLiFkAAARGQZpkSeEPJlMFPD///qmWAATA7vha\n",
              "FGznwONtz+ChqMPHmIYeV4yVwyFJoT+v1dw9w1W0TVxqZYo7t+q0sW/Q9g24RSzeHtG2IMHNbN+i\n",
              "feb2uB0feFCxLK0KRQKuiPfvZ7b5r15AJxAj/ubhVd5wY1J5/X1Nd1Zs1x6u+diViYM0Va/50F82\n",
              "RfD8mMswQ7lwy9uq5XRLim9TcYAvvpoMjhpb0f6VNGEq05BsQL5MwuY7OuTtASnkBWJQBcYIEClO\n",
              "l4TCIrVg/O/U0ERgWMOu+Tu1elmjs2FZfvKv12mgGJUo26c8xCFDQrU0+4PYjQQNcScYsS33chSm\n",
              "6gzmi2qKj5LG4Su/72chHg5swu1ZKewXhiXdDhFxFeNbS+vZ4ckcU2We5kB6vFtpL1OLL+AnKH2J\n",
              "ZB5AGf950TbDI1TotTU5AAI+Q9eG/dIf5DWLRq7PVeJCm2KrXe3BbXtI75Sm+dy7wzBV9+O9ie9+\n",
              "ibWuqlnAZTYxi0bODRojz0zyDkjQABbmDA0/UyTC4Okca+PnXpiJeFruTcp7A7dEROHzh7mPRq9E\n",
              "7EJmQ5cAFSjzbyb04gWnsRRHtguORRuZXwo1UVEF56nr15G3hBXZ5rIjhpMDotuRKUg3shBfMFJi\n",
              "b3RQ1+ErwOkTfMdNd0uLhQzmVn2e0/uOye2MnZBgQ3rQV0akveapbFnhI9hdcE9rtdTcC60pjzQ2\n",
              "d33kVQtRJ/4ONgK63G9yvtHB4kWX35l5qwhAVtdere8h6/dkaHAr4bQ/nZoW4NpGUoO5BnYCTXCx\n",
              "bx00v/c/fjaifbrFcwr/uS6WSD5A2+e8gzaeq9c9N9Bhe4LeQ5xpqy7tK5IoMcShkffa2caHoJSQ\n",
              "V1ZXc5WEzYIvZoKa+B9TOX5FfpzQJBGwCB8pnRdta7hXClpMPIn4NbUPQ41lFMXJWuurwJqVea8u\n",
              "TXL0pG2DY4EE5DpAcVb9UWGrg45aupUh3ImJDjy3nTs8AvLZAf2t+N5IsLSOtSCy+5ma3VxOYYoJ\n",
              "g3S9aCtY0q3LqqtMswDTpLAuxaf+f5stfSeD95OVGoueJiKEem4W5euDjjLj9apo5JZhGv6aMEKd\n",
              "Pm1wXywPBcbIPDUbHRpBy16pfJMoCH/Rk1wlXFHtaFYRWflv1fGf4lV2rmt2LN3Co72IiRWYtxub\n",
              "pdr3npXp5GbRuZG/0YFwW7d0svzj4qhBaba9/402EoRlzpGRRMyojxkUVYC5+35w9slVzSOa6i0B\n",
              "OLnjxPOveyRCeNklqco828aru4FLtzaev5nEcA6lNnoEcQ0aAgDN0/33jlXj7GumMCPxYDYuPnQJ\n",
              "Lml6mCA9pPoHvSvAEK7M5kpaOLWF6Kc5EsBQgQK26Rzryk6a/HqTCQPiWqYcRuzw/NiFbm3F1f6W\n",
              "kVrtlFoOh9V9BWPh3QbPHPyCwTkrlZK7yX4N55BvJ/gf5OmW1Eplu2WslQEAEbAAAACiAZ6DakK/\n",
              "AAADAGcH/K5EaF8VWkvE5C8MVXBABxZ1hfKRtg4PVBsAVAjA/YoRKfcYv7pPmn55dcXRCP4+DnG+\n",
              "8cLYD8A4BFKJsoNEvNflxjDwSfHedRs+dnriLznHvhgelW7OlceY2+ytW0MvybKjrw403IJ6FhSD\n",
              "kfhhfLLMezwtVMDurb5RpEZcDK0AFE0X+GmQvYEsVlVCBJkk2gAAAwGPAAADQ0GaiEnhDyZTAh//\n",
              "/qmWAATA7vhZpWHnwNy+xJHo5gclGDmcMekv4gRZB3ibGVPdlQpXUHpfWrBODcGeW+mYFzlHPr4n\n",
              "e3D95pJ/sgCco6ZyHVQVVKG+C5QPI/87XvQweP3E3YGapwvRGI8WTDU+jP4Fv9x2ze5BwmflymH9\n",
              "2Kll0eJCzMVIoh/jZn9k6wv+1yAsPgblEpUH3GFCSYc6a+YAYw5+jDyID6ucVkCI5TxlmmTkXTIN\n",
              "E0xywBf86piFCtvRX0fkA03+5p66ejtrl9FmlfTPeXkTOm3THkNsilTfBD7t8nYRB9evh3A+NV+B\n",
              "LOzhgGSW2gP+oGreenC4tWlWNIpkj0wJYqBpfRsxRYBSamf5gkXSeBS6ob6hX4fFQ49FDy2HJPna\n",
              "CToGQ3GWImYIM8MORm82zdS5R6phaPgNNwmBAhObKMrNjHSMoCZoSFLVvIYZ9K+P84PHKjYUQQy4\n",
              "v3RkrpHOgyCf+BsIH5xGvlMWzOBwHJT4levnkX8nF1vonEBpDJabGusrCGFGmodwv5nr3t/r5cNP\n",
              "ug3P1ih6s8vdyQTlLm3RDxC4/WHuPG1VxnuY04bjN5fXrbqq6OX3dxDu1Ddjkd9NeRHz/HynZo3w\n",
              "LA9OzX1LwrJ2Mn8ApaN4sx6PRKcdkuH/TERCW+HKPeXTtaYYKCcpl0GDqsncsep8Q+yX0dR07NvT\n",
              "1ubKhPW2WtqHfvhBCOZDj/5WFVxI2aTd1P82mooQgiIwVIzD7kc74X5QhvKmynr1lb+ajDVV9crX\n",
              "0bNWfGwrc4lHMHUQMhUAaDgE5ZTd/dcgEcunrLoUZ/nH/wHrwomqviA2dgFe0/pa8ti/XYTf3cUv\n",
              "hS8aeCZl4W0vL9FPn4WDr8xwyygnLMxKTHhoSJd/DVJ7PhTAmVfjYj1dH/8vmtrXKraQz/8FOCKU\n",
              "x6VqKEQtWTmRLLqJF+1/ILAqCedwpGTxGLrAUUhUI5FzTROZag+iTUp8AZkrHtTClk1vsSiDwIs0\n",
              "00l4JBukI7/bgH/zDl+pwQ8jZRxlAt7qfNUHnN6cCy7Y1ZNtgo/ti5lWB62KoeMOYzyRhdAvmQPk\n",
              "NMoHSPbGT3/vceEKX8Rl++sptGrGbYQADRkAAABeQZ6mRRE8M/8AAEilTJCPWN00nueKojwKHrGT\n",
              "kE0R2yCskL5yc/7FLyaFUgfzmRgxAB9k1RykFLSPTTBeFV07ydyUpMik6a+hctvyrd3FohpgL7ff\n",
              "wCOHHCNcgAADVwAAAFIBnsV0Qr8AAIa6Eb4lfNp1HJhoALqNKfp6ToUp+HRgcbA2FDeXwW8YrBDi\n",
              "g6pJIIT/inUmDFeEQY6/gFF0Vj1BFm8MoWY0qqTFbKmxxroAACPhAAAALQGex2pCvwAAhuvz2hRV\n",
              "YtV+JbTHseEZfZ6bS/O4ACVZHGePOaI1o+roAAC7gAAAARlBmsxJqEFomUwIf//+qZYABMDu+FoU\n",
              "bOh6/WozXdqpt/hKZ8kKIld632LgAZfdhWJJatuechKXEdwuoWkktBDT4hpdr+QhKpuMKva9S3G8\n",
              "sBGhS0QWe9jOWBRrHnxrqPiHjcLpkgoqLz9sMq40+noNpvpGuN4ITD1a7zCr0yFeE7E0oaq6Dm8q\n",
              "nv82NyRUSBBm+pBtvjxqPwmNcnTfM+TOpWzSAeFb7ZKYXojH5pQQlZUOev6npXfR/Y/xFTB96GCF\n",
              "rSlUK1MuFUexDtyvGHSktMcooI9zodWxBf1drwHcBV1h1K/0iFkC7D6xGXeFAc+RZ26vlRWr1H0P\n",
              "8kQSxCvcjLbCQ+wrP5jpx22mMY+477SU1ODV8cT6qAAAAClBnupFESwz/wAASXXfWH2xkMSrd61m\n",
              "DQoDHd8MML/d+gBNCAABPQkqTwAAACEBnwl0Qr8AAIa6LbKptJegs1ADqHi9JbejhTZfWAAAFJAA\n",
              "AAAgAZ8LakK/AACG6/PaFFVi1cVC6WHr0r0gkUAAUEFMesAAAACHQZsQSahBbJlMCH///qmWAATA\n",
              "7vhZpWHnwGbfYth5Ervi10jVP+G2rXVFxSXdSeZngXOMnPyfHSw16HTz+A0gUIdU8qpVlALeGEyU\n",
              "DP33jXYqvRKcHtNR3KYLdwmz+9Cut5lUV55SQz8KiNRB/LGQNtm3fK1zBYnI3y8Pr/fCdXAExNTn\n",
              "X1WBAAAANkGfLkUVLDP/AABJdd2qoXF8CVWKO4xn4z4CcENlIAe+S7v1MchBbhepHjNp7NRVwAC0\n",
              "mCRgQQAAACABn010Qr8AAIa6EdoEy0bkSWcffvNmFYe7gBs37hHK+QAAAB0Bn09qQr8AAIbr89oU\n",
              "VWLV68b19vZ3gAE+mOK2YAAAAGNBm1RJqEFsmUwIf//+qZYABMDu+FoUbOfAZw+iZptlQH2a4KLn\n",
              "+R7Ajq4Uv/7sGH2SzGz3gcjd4AlP0bYR0AUvWOxcUjP3E9G97cb7vNAFwx68VRzPdDhki64m6QBJ\n",
              "PGqbuPAAAAA+QZ9yRRUsM/8AAEl13aqhcXwJVYo7kHJwCDlfbiqxfOf9RJWNYpv8V7doFutMpEVA\n",
              "9Z7srP3rX1GQAAf6xC0AAAAyAZ+RdEK/AACGuhHaBMtG5ESauxx2Uk4FqH0AAWkj4vBHl97FCLfQ\n",
              "nBK0LEAHb7wnrYAAAAAjAZ+TakK/AACG6/PaFFVi1E5PIABFiEAHudQC7N8v7agAAZUAAABOQZuY\n",
              "SahBbJlMCH///qmWAATA7vhZpWHnwGcQGpTOEC66OTCVhAS1qR91PBfyuupggH13GCNoYyEvgGW3\n",
              "t7g4OIVHMs9LS47LtT7gAFbBAAAAI0GftkUVLDP/AABJdd2qoXF73vj3w6uylJnma+5X+x0AAAVc\n",
              "AAAAFgGf1XRCvwAAhroR2gTLRuJr+OQACFkAAAAYAZ/XakK/AACG6/PaFFVi1E5PMS4oABDxAAAA\n",
              "L0Gb3EmoQWyZTAh///6plgAEwO74WhRs58AksqIdQjBxgpXz6eXyJDYQ/+nSAAXEAAAAHkGf+kUV\n",
              "LDP/AABJdd2qoXF8CVWKOYkCi2ZHIAAFJQAAABgBnhl0Qr8AAIa6EdoEy0bia/twF9AAIeAAAAAY\n",
              "AZ4bakK/AACG6/PaFFVi1E5PMS4oABDxAAAAH0GaAEmoQWyZTAh///6plgAEwO74WaVh58AAAAMA\n",
              "oIEAAAAeQZ4+RRUsM/8AAEl13aqhcXwJVYo5iQKLYAAAAwLuAAAAGAGeXXRCvwAAhroR2gTLRuJr\n",
              "+3AX0AAh4AAAABgBnl9qQr8AAIbr89oUVWLUTk8xLigAEPEAAAAeQZpESahBbJlMCHf//qmWAATA\n",
              "z0vUTLWdAAADAAK2AAAAHkGeYkUVLDP/AABJdd2qoXF8CVWKOYkCi2AAAAMC7wAAABgBnoF0Qr8A\n",
              "AIa6EdoEy0bia/twF9AAIeAAAAAYAZ6DakK/AACG6/PaFFVi1E5PMS4oABDxAAAAHkGaiEmoQWyZ\n",
              "TAh3//6plgAEwM9L0kqIHQAAAwACtwAAAB5BnqZFFSwz/wAASXXdqqFxfAlVijmJAotgAAADAu8A\n",
              "AAAYAZ7FdEK/AACGuhHaBMtG4mv7cBfQACHhAAAAGAGex2pCvwAAhuvz2hRVYtROTzEuKAAQ8AAA\n",
              "AB5BmsxJqEFsmUwId//+qZYABMDPSrFS2s6AAAADAVsAAAAeQZ7qRRUsM/8AAEl13aqhcXwJVYo5\n",
              "iQKLYAAAAwLvAAAAGAGfCXRCvwAAhroR2gTLRuJr+3AX0AAh4AAAABgBnwtqQr8AAIbr89oUVWLU\n",
              "Tk8xLigAEPAAAAAdQZsQSahBbJlMCGf//p4QACWkNBEPap0AAAMABH0AAAAeQZ8uRRUsM/8AAEl1\n",
              "3aqhcXwJVYo5iQKLYAAAAwLvAAAAGAGfTXRCvwAAhroR2gTLRuJr+3AX0AAh4QAAABgBn09qQr8A\n",
              "AIbr89oUVWLUTk8xLigAEPAAAAAdQZtRSahBbJlMCFf//jhAAJKH0Ig3yoAAAAMAxYAAAAV6bW9v\n",
              "dgAAAGxtdmhkAAAAAAAAAAAAAAAAAAAD6AAACcQAAQAAAQAAAAAAAAAAAAAAAAEAAAAAAAAAAAAA\n",
              "AAAAAAABAAAAAAAAAAAAAAAAAABAAAAAAAAAAAAAAAAAAAAAAAAAAAAAAAAAAAAAAAAAAgAABKR0\n",
              "cmFrAAAAXHRraGQAAAADAAAAAAAAAAAAAAABAAAAAAAACcQAAAAAAAAAAAAAAAAAAAAAAAEAAAAA\n",
              "AAAAAAAAAAAAAAABAAAAAAAAAAAAAAAAAABAAAAAAoAAAAHgAAAAAAAkZWR0cwAAABxlbHN0AAAA\n",
              "AAAAAAEAAAnEAAAEAAABAAAAAAQcbWRpYQAAACBtZGhkAAAAAAAAAAAAAAAAAAAoAAAAZABVxAAA\n",
              "AAAALWhkbHIAAAAAAAAAAHZpZGUAAAAAAAAAAAAAAABWaWRlb0hhbmRsZXIAAAADx21pbmYAAAAU\n",
              "dm1oZAAAAAEAAAAAAAAAAAAAACRkaW5mAAAAHGRyZWYAAAAAAAAAAQAAAAx1cmwgAAAAAQAAA4dz\n",
              "dGJsAAAAt3N0c2QAAAAAAAAAAQAAAKdhdmMxAAAAAAAAAAEAAAAAAAAAAAAAAAAAAAAAAoAB4ABI\n",
              "AAAASAAAAAAAAAABAAAAAAAAAAAAAAAAAAAAAAAAAAAAAAAAAAAAAAAAAAAAGP//AAAANWF2Y0MB\n",
              "ZAAe/+EAGGdkAB6s2UCgPaEAAAMAAQAAAwAoDxYtlgEABmjr48siwP34+AAAAAAcdXVpZGtoQPJf\n",
              "JE/FujmlG88DI/MAAAAAAAAAGHN0dHMAAAAAAAAAAQAAADIAAAIAAAAAFHN0c3MAAAAAAAAAAQAA\n",
              "AAEAAAGQY3R0cwAAAAAAAAAwAAAAAwAABAAAAAABAAAGAAAAAAEAAAIAAAAAAQAACgAAAAABAAAE\n",
              "AAAAAAEAAAAAAAAAAQAAAgAAAAABAAAKAAAAAAEAAAQAAAAAAQAAAAAAAAABAAACAAAAAAEAAAoA\n",
              "AAAAAQAABAAAAAABAAAAAAAAAAEAAAIAAAAAAQAACgAAAAABAAAEAAAAAAEAAAAAAAAAAQAAAgAA\n",
              "AAABAAAKAAAAAAEAAAQAAAAAAQAAAAAAAAABAAACAAAAAAEAAAoAAAAAAQAABAAAAAABAAAAAAAA\n",
              "AAEAAAIAAAAAAQAACgAAAAABAAAEAAAAAAEAAAAAAAAAAQAAAgAAAAABAAAKAAAAAAEAAAQAAAAA\n",
              "AQAAAAAAAAABAAACAAAAAAEAAAoAAAAAAQAABAAAAAABAAAAAAAAAAEAAAIAAAAAAQAACgAAAAAB\n",
              "AAAEAAAAAAEAAAAAAAAAAQAAAgAAAAABAAAKAAAAAAEAAAQAAAAAAQAAAAAAAAABAAACAAAAAAEA\n",
              "AAQAAAAAHHN0c2MAAAAAAAAAAQAAAAEAAAAyAAAAAQAAANxzdHN6AAAAAAAAAAAAAAAyAAAe2wAA\n",
              "CU0AAATCAAAESgAAAKYAAANHAAAAYgAAAFYAAAAxAAABHQAAAC0AAAAlAAAAJAAAAIsAAAA6AAAA\n",
              "JAAAACEAAABnAAAAQgAAADYAAAAnAAAAUgAAACcAAAAaAAAAHAAAADMAAAAiAAAAHAAAABwAAAAj\n",
              "AAAAIgAAABwAAAAcAAAAIgAAACIAAAAcAAAAHAAAACIAAAAiAAAAHAAAABwAAAAiAAAAIgAAABwA\n",
              "AAAcAAAAIQAAACIAAAAcAAAAHAAAACEAAAAUc3RjbwAAAAAAAAABAAAAMAAAAGJ1ZHRhAAAAWm1l\n",
              "dGEAAAAAAAAAIWhkbHIAAAAAAAAAAG1kaXJhcHBsAAAAAAAAAAAAAAAALWlsc3QAAAAlqXRvbwAA\n",
              "AB1kYXRhAAAAAQAAAABMYXZmNTguNzYuMTAw\n",
              "\">\n",
              "  Your browser does not support the video tag.\n",
              "</video>"
            ]
          },
          "metadata": {},
          "execution_count": 38
        },
        {
          "output_type": "display_data",
          "data": {
            "text/plain": [
              "<Figure size 640x480 with 1 Axes>"
            ],
            "image/png": "[encoded data removed]"
          },
          "metadata": {}
        }
      ],
      "source": [
        "# Simulation parameters\n",
        "h = 1. / 4.\n",
        "numTimeSteps = 50\n",
        "initial_state, kx, ky = (1.0, 1.0), 1.0, 5.0\n",
        "\n",
        "# Systems & solvers\n",
        "systems = [BeadOnWire(initial_state, kx, ky) for _ in range(4)]\n",
        "solvers = [None, ExplicitEulerSolver(), MidpointSolver(), RK4Solver()]\n",
        "\n",
        "method_data = {\n",
        "  0: ('red', 'Analytical'),\n",
        "  1: ('green', 'Explicit Euler'),\n",
        "  2: ('blue', 'Midpoint'),\n",
        "  3: ('purple', 'RK4'),\n",
        "}\n",
        "\n",
        "# Figure setup\n",
        "from matplotlib import animation, rc\n",
        "\n",
        "fig, ax = plt.subplots()\n",
        "ax.set_xlim((-0.2, 1.2))\n",
        "ax.set_ylim((-1.2, 1.2))\n",
        "\n",
        "lines = [None] * len(systems)\n",
        "lines_non_null = []\n",
        "for idx, (color, label) in method_data.items():\n",
        "  kwargs = {'ls': ':', 'lw': 4} if idx == 0 else {'lw': 1}\n",
        "  line = ax.plot([], [], color=color, label=label, **kwargs)[0]\n",
        "  lines[idx] = line\n",
        "  lines_non_null.append(line)\n",
        "\n",
        "# Initialization function: plot the background of each frame\n",
        "def init():\n",
        "  for idx in method_data:\n",
        "    systems[idx].on_start_simulation(lines[idx])\n",
        "  return lines_non_null\n",
        "\n",
        "# Animation function. This is called sequentially\n",
        "def animate(i):\n",
        "  for idx in method_data:\n",
        "    system, solver = systems[idx], solvers[idx]\n",
        "    if solver is None:\n",
        "      system.analytical_state_update(i*h)\n",
        "    else:\n",
        "      solver.step(h,system)\n",
        "    system.on_step_simulation()\n",
        "\n",
        "  ax.legend()\n",
        "  return lines_non_null\n",
        "\n",
        "# Call the animator. blit=True means only re-draw the parts that have changed.\n",
        "anim = animation.FuncAnimation(fig, animate, init_func=init,\n",
        "                               frames=numTimeSteps, interval=50, blit=True)\n",
        "HTML(anim.to_html5_video())"
      ]
    },
    {
      "cell_type": "markdown",
      "metadata": {
        "id": "FgoZlXFbe1Lw"
      },
      "source": [
        "In the cell above, observe the output under 2 scenarios:\n",
        "1.   The original settings (i.e. run the cell as-is)\n",
        "2.   With a larger time step, `h = 1. / 2.`.\n",
        "\n",
        "Describe the behavior that each integrator exhibits in each case, specifically with regard to:\n",
        "1. simulation accuracy (how closely does the solver match the analytical solution, in comparison to the other integrators?)\n",
        "1. stability (can you observe any fluctuations of state, and is the trajectory converging or exploding?)\n",
        "\n",
        "**<font color='orange'> \\*\\*Write your code below (20 pts)\\*\\* </font>**"
      ]
    },
    {
      "cell_type": "markdown",
      "metadata": {
        "id": "OxOA_BOMg1W5"
      },
      "source": [
        "When the time step is smaller (1. / 4.), RK4 is verry accurate with the analytical solution and midpoint method's trajectory is slightly higher than the analytical solution and explicit euler's trajectory goes below the analytical solution then rejoins the expected trajectory. The stability appears to be good for all the integrators. When the time step is larger (1. / 2.), RK4's trajectory becomes higher than analytical but rejoins the trajectory at the end and midpoint and explicit euler has a completely different trajectory than analytical. Also, it appears that midpoint and explicit euler are no longer stable because the time step is too large."
      ]
    },
    {
      "cell_type": "markdown",
      "metadata": {
        "id": "sdcwtji7h-kU"
      },
      "source": [
        "# 4. Extra Questions"
      ]
    },
    {
      "cell_type": "markdown",
      "metadata": {
        "id": "XpJxjaMdqiGE"
      },
      "source": [
        "## 4.1 Implicit Euler (first order) method\n",
        "\n",
        "Please implement the implicit Eulier method. You may directly modify the above sections to implement the implicit Euler solver and visualize a new trajectory (with five balls).\n",
        "\n",
        "*Hint:* follow the implicit Euler equations and make use of `get_gradient_of_system_derivative()`.\n",
        "\n",
        "Useful Numpy functions: `np.eye()`, `np.linalg.inv()`\n",
        "\n",
        "**<font color='orange'> \\*\\*Write your code below (4 pts)\\*\\* </font>**"
      ]
    },
    {
      "cell_type": "markdown",
      "metadata": {
        "id": "McbkmnN3k8CW"
      },
      "source": [
        "## 4.2. Trapezoidal rule integrator: bead-on-wire"
      ]
    },
    {
      "cell_type": "markdown",
      "metadata": {
        "id": "HMmtthgQoAS5"
      },
      "source": [
        "You know the drill by now. Implement another solver, one which uses the trapezoidal rule.\n",
        "\n",
        "This time, refer to the trapezoidal rule equation from class and derive the final state update equation before coding it up in this cell. It will be visualized using the bead-on-wire system.\n",
        "\n",
        "*Hint:* you must implement the implicit Euler solver before this question.\n",
        "\n",
        "\n",
        "**<font color='orange'> \\*\\*Write your code below (3 pts)\\*\\* </font>**"
      ]
    },
    {
      "cell_type": "code",
      "execution_count": 20,
      "metadata": {
        "id": "CpSTFwDHnwXn"
      },
      "outputs": [],
      "source": [
        "class TrapezoidalSolver(Solver):\n",
        "  \"\"\"A general Trapezoidal Rule based solver.\"\"\"\n",
        "  def step(self, h: float, system: DynamicSystem):\n",
        "    \"\"\" Read the current system state, calculate the state after advancement by `h`, and use `set_state()` to update the system. Do not return anything.\n",
        "\n",
        "    Args:\n",
        "      system: the instance of the given dynamic system\n",
        "      h: an amount of the time step we want to integrate\n",
        "    \"\"\"\n",
        "    # Student answer begins\n",
        "\n",
        "    # Student answer ends"
      ]
    },
    {
      "cell_type": "markdown",
      "metadata": {
        "id": "BfbsmtgxvxKv"
      },
      "source": [
        "### Simulation & visualization with matplotlib (do not edit)\n",
        "\n",
        "We now compare the trapezoidal solver with the analytical solution as well as the explicit and implicit Euler methods.\n",
        "\n",
        "Ensure that you get a curve in between those of the explicit and implicit Euler methods, which is also the closest of the three to the analytical solution."
      ]
    },
    {
      "cell_type": "code",
      "execution_count": 21,
      "metadata": {
        "id": "bmob7OsZvxKx",
        "colab": {
          "base_uri": "https://localhost:8080/",
          "height": 246
        },
        "outputId": "a1d003bc-649a-4e14-c980-f3723fe9f14d"
      },
      "outputs": [
        {
          "output_type": "error",
          "ename": "NameError",
          "evalue": "ignored",
          "traceback": [
            "\u001b[0;31m---------------------------------------------------------------------------\u001b[0m",
            "\u001b[0;31mNameError\u001b[0m                                 Traceback (most recent call last)",
            "\u001b[0;32m<ipython-input-21-019e576e98dd>\u001b[0m in \u001b[0;36m<cell line: 8>\u001b[0;34m()\u001b[0m\n\u001b[1;32m      6\u001b[0m \u001b[0;31m# Systems & solvers\u001b[0m\u001b[0;34m\u001b[0m\u001b[0;34m\u001b[0m\u001b[0m\n\u001b[1;32m      7\u001b[0m \u001b[0msystems\u001b[0m \u001b[0;34m=\u001b[0m \u001b[0;34m[\u001b[0m\u001b[0mBeadOnWire\u001b[0m\u001b[0;34m(\u001b[0m\u001b[0minitial_state\u001b[0m\u001b[0;34m,\u001b[0m \u001b[0mkx\u001b[0m\u001b[0;34m,\u001b[0m \u001b[0mky\u001b[0m\u001b[0;34m)\u001b[0m \u001b[0;32mfor\u001b[0m \u001b[0m_\u001b[0m \u001b[0;32min\u001b[0m \u001b[0mrange\u001b[0m\u001b[0;34m(\u001b[0m\u001b[0;36m4\u001b[0m\u001b[0;34m)\u001b[0m\u001b[0;34m]\u001b[0m\u001b[0;34m\u001b[0m\u001b[0;34m\u001b[0m\u001b[0m\n\u001b[0;32m----> 8\u001b[0;31m \u001b[0msolvers\u001b[0m \u001b[0;34m=\u001b[0m \u001b[0;34m[\u001b[0m\u001b[0;32mNone\u001b[0m\u001b[0;34m,\u001b[0m \u001b[0mExplicitEulerSolver\u001b[0m\u001b[0;34m(\u001b[0m\u001b[0;34m)\u001b[0m\u001b[0;34m,\u001b[0m \u001b[0mImplicitEulerSolver\u001b[0m\u001b[0;34m(\u001b[0m\u001b[0;34m)\u001b[0m\u001b[0;34m,\u001b[0m \u001b[0mTrapezoidalSolver\u001b[0m\u001b[0;34m(\u001b[0m\u001b[0;34m)\u001b[0m\u001b[0;34m]\u001b[0m\u001b[0;34m\u001b[0m\u001b[0;34m\u001b[0m\u001b[0m\n\u001b[0m\u001b[1;32m      9\u001b[0m \u001b[0;34m\u001b[0m\u001b[0m\n\u001b[1;32m     10\u001b[0m method_data = {\n",
            "\u001b[0;31mNameError\u001b[0m: name 'ImplicitEulerSolver' is not defined"
          ]
        }
      ],
      "source": [
        "# Simulation parameters\n",
        "h = 1. / 4.\n",
        "numTimeSteps = 50\n",
        "initial_state, kx, ky = (1.0, 1.0), 1.0, 5.0\n",
        "\n",
        "# Systems & solvers\n",
        "systems = [BeadOnWire(initial_state, kx, ky) for _ in range(4)]\n",
        "solvers = [None, ExplicitEulerSolver(), ImplicitEulerSolver(), TrapezoidalSolver()]\n",
        "\n",
        "method_data = {\n",
        "  0: ('red', 'Analytical'),\n",
        "  1: ('green', 'Explicit Euler'),\n",
        "  2: ('cyan', 'Implicit Euler'),\n",
        "  3: ('black', 'Trapezoidal Rule'),\n",
        "}\n",
        "\n",
        "# Figure setup\n",
        "from matplotlib import animation, rc\n",
        "\n",
        "fig, ax = plt.subplots()\n",
        "ax.set_xlim((-0.2, 1.2))\n",
        "ax.set_ylim((-1.2, 1.2))\n",
        "\n",
        "lines = [None] * len(systems)\n",
        "lines_non_null = []\n",
        "for idx, (color, label) in method_data.items():\n",
        "  kwargs = {'ls': ':', 'lw': 4} if idx == 0 else {'lw': 1}\n",
        "  line = ax.plot([], [], color=color, label=label, **kwargs)[0]\n",
        "  lines[idx] = line\n",
        "  lines_non_null.append(line)\n",
        "\n",
        "# Initialization function: plot the background of each frame\n",
        "def init():\n",
        "  for idx in method_data:\n",
        "    systems[idx].on_start_simulation(lines[idx])\n",
        "  return lines_non_null\n",
        "\n",
        "# Animation function. This is called sequentially\n",
        "def animate(i):\n",
        "  for idx in method_data:\n",
        "    system, solver = systems[idx], solvers[idx]\n",
        "    if solver is None:\n",
        "      system.analytical_state_update(i*h)\n",
        "    else:\n",
        "      solver.step(h,system)\n",
        "    system.on_step_simulation()\n",
        "\n",
        "  ax.legend()\n",
        "  return lines_non_null\n",
        "\n",
        "# Call the animator. blit=True means only re-draw the parts that have changed.\n",
        "anim = animation.FuncAnimation(fig, animate, init_func=init,\n",
        "                               frames=numTimeSteps, interval=50, blit=True)\n",
        "HTML(anim.to_html5_video())"
      ]
    },
    {
      "cell_type": "markdown",
      "metadata": {
        "id": "dWchNLgLk3GI"
      },
      "source": [
        "## 4.3. Step doubling: free-fall"
      ]
    },
    {
      "cell_type": "markdown",
      "metadata": {
        "id": "s1rP2jpo1ds_"
      },
      "source": [
        "Write a variation of the `ExplicitEulerSolver` that uses step doubling *repeatedly until the error is low enough*, and *returns the next time step to use*.\n",
        "\n",
        "You will see the results on the freefall system from before; simulation code has been implemented for you.\n",
        "\n",
        "Specifically, do the following in the `step()` function below:\n",
        "1. Compute the two candidte states `x_a` and `x_b` as seen in class\n",
        "1. Compare the mean absolute error between them with the provided `error_tol` value.\n",
        "1. *If error is within tolerance:*\n",
        "  - Set the state to `x_b`\n",
        "  - Return the current time step\n",
        "1. *Otherwise:*\n",
        "  - compute the new time step to use based on the formula learnt in class\n",
        "  - *reset the system state* to what it was before this `step()` function was called\n",
        "  - recursively call `step()` with the new time step.\n",
        "\n",
        "**<font color='orange'> \\*\\*Write your code below (3 pts)\\*\\* </font>**"
      ]
    },
    {
      "cell_type": "code",
      "execution_count": null,
      "metadata": {
        "id": "TED9NyMh1rb5"
      },
      "outputs": [],
      "source": [
        "class SDExplicitEulerSolver(Solver):\n",
        "  \"\"\"A general Explicit Euler method solver with recursive step doubling.\"\"\"\n",
        "  def step(self, h: float, system: DynamicSystem, error_tol: float):\n",
        "    \"\"\" Read the current system state, calculate the state after advancement by `dt`, and use `set_state()` to update the system.\n",
        "    Now, though, return the next time step to use, according to step doubling using `error_tol`.\"\"\"\n",
        "    # Student answer begins\n",
        "\n",
        "    # Student answer ends"
      ]
    },
    {
      "cell_type": "markdown",
      "metadata": {
        "id": "Ae3SY6r7qdh0"
      },
      "source": [
        "### Simulation code (do not edit)"
      ]
    },
    {
      "cell_type": "markdown",
      "metadata": {
        "id": "P4GCZ7FEqZ8X"
      },
      "source": [
        "#### Load PyBullet objects and initialize required parameters"
      ]
    },
    {
      "cell_type": "code",
      "execution_count": null,
      "metadata": {
        "id": "DvHNWdT6qZ8Y"
      },
      "outputs": [],
      "source": [
        "init_pybullet()\n",
        "\n",
        "initial_height = 10.0\n",
        "g = 9.8  # Acceleration due to gravity\n",
        "\n",
        "h = 1.  # Time step - step doubling can edit this\n",
        "error_tol = 1e-2\n",
        "\n",
        "# Order of methods (and corresponding systems)\n",
        "method_labels = {\n",
        "  0: 'Analytical solution',\n",
        "  1: 'Explicit Euler SD method',\n",
        "}\n",
        "\n",
        "# Construct all the systems\n",
        "systems = [Freefall(initial_height, g) for _ in range(len(method_labels))]\n",
        "\n",
        "\n",
        "# Load objects\n",
        "\n",
        "# Red Sphere - Analytical\n",
        "systems[0].on_start_simulation(rgbaColor=[1, 0, 0, 1], basePosition=[-1.0, 0.0, initial_height])\n",
        "# Green sphere - Explicit Euler (SD)\n",
        "systems[1].on_start_simulation(rgbaColor=[0, 1, 0, 1], basePosition=[ 1.0, 0.0, initial_height])"
      ]
    },
    {
      "cell_type": "markdown",
      "metadata": {
        "id": "ufWYNYtsqZ8a"
      },
      "source": [
        "#### Simulation loop"
      ]
    },
    {
      "cell_type": "code",
      "execution_count": null,
      "metadata": {
        "id": "T8KOzZRaqZ8b"
      },
      "outputs": [],
      "source": [
        "i, t = 0, 0.  # Loop counter, Time\n",
        "heightsToPlot = [[initial_height] for _ in range(len(systems))]\n",
        "times = [t]\n",
        "\n",
        "# Constructs all the solvers\n",
        "sd_solver = SDExplicitEulerSolver()\n",
        "\n",
        "frames = []\n",
        "while max(get_heights(systems)) > 0.0:\n",
        "  h_new = sd_solver.step(h,systems[1], error_tol)\n",
        "  if not np.isclose(h, h_new):\n",
        "      print(\"\\n** h changed by SD: {} -> {} **\\n\".format(h, h_new))\n",
        "      if t == 0.0:\n",
        "        # use this as test case\n",
        "        assert np.isclose(h_new, 0.09035), \"Failed test case for SD\"\n",
        "\n",
        "  t += h_new\n",
        "  systems[0].analytical_state_update(t)\n",
        "\n",
        "  heights = get_heights(systems)\n",
        "\n",
        "  # Print the values for debugging.\n",
        "  if i % 5 == 0:\n",
        "      print(\"At time t = {}\".format(t))\n",
        "      for idx, label in method_labels.items():\n",
        "        print(\"Height of object using {} = {}\".format(label, heights[idx]))\n",
        "\n",
        "  # Update the values for plot and visualization\n",
        "  for j, system_j in enumerate(systems):\n",
        "    system_j.on_step_simulation()\n",
        "    heightsToPlot[j].append(heights[j])\n",
        "\n",
        "  # Render image\n",
        "  frames.append(render_pybullet())\n",
        "\n",
        "  times.append(t)\n",
        "  h = h_new\n",
        "  i += 1\n",
        "\n",
        "print(\"\\nDone, passing your test case. t = {}\".format(t))"
      ]
    },
    {
      "cell_type": "markdown",
      "metadata": {
        "id": "caKf6ZRwqZ8b"
      },
      "source": [
        "#### Visualize the results\n",
        "\n",
        "Make sure that you can see the animation of 2 free-falling objects, with the green one lagging behind the red one."
      ]
    },
    {
      "cell_type": "code",
      "execution_count": null,
      "metadata": {
        "id": "jEmw7o-UqZ8c"
      },
      "outputs": [],
      "source": [
        "sd_gif_path = './test_sd.gif'\n",
        "\n",
        "imageio.mimsave(sd_gif_path, np.stack(frames, axis=0), 'GIF', fps=20.0)\n",
        "ipythondisplay.Image(filename=sd_gif_path)"
      ]
    },
    {
      "cell_type": "markdown",
      "metadata": {
        "id": "PWUKU8xMqZ8d"
      },
      "source": [
        "#### Heights vs time\n",
        "\n",
        "This will look similar to the standard Explicit Euler plot from before."
      ]
    },
    {
      "cell_type": "code",
      "execution_count": null,
      "metadata": {
        "id": "tXVpRWcdqZ8d"
      },
      "outputs": [],
      "source": [
        "import matplotlib.pyplot as plt\n",
        "%matplotlib inline\n",
        "\n",
        "plt.figure(figsize=(8,8))\n",
        "plt.plot(times, heightsToPlot[0], 'r.', lw=4, label='Analytical')\n",
        "plt.plot(times, heightsToPlot[1], 'g-', lw=1, label='Explicit Euler SD')\n",
        "plt.xlabel('Time')\n",
        "plt.ylabel('Heights')\n",
        "plt.legend()\n",
        "plt.show()"
      ]
    }
  ],
  "metadata": {
    "accelerator": "GPU",
    "colab": {
      "collapsed_sections": [
        "PSTL6hdzQt6M",
        "yXiQL6Retvz2",
        "8CteMs1u1Ve1"
      ],
      "provenance": []
    },
    "kernelspec": {
      "display_name": "Python 3.9.12 ('base')",
      "language": "python",
      "name": "python3"
    },
    "language_info": {
      "codemirror_mode": {
        "name": "ipython",
        "version": 3
      },
      "file_extension": ".py",
      "mimetype": "text/x-python",
      "name": "python",
      "nbconvert_exporter": "python",
      "pygments_lexer": "ipython3",
      "version": "3.7.6"
    },
    "vscode": {
      "interpreter": {
        "hash": "2e5314a4d3bbd0f86247ba18d17c0766895c8e7c17c397ab915e526c9228afab"
      }
    }
  },
  "nbformat": 4,
  "nbformat_minor": 0
}